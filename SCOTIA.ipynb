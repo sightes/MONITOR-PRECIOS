{
 "cells": [
  {
   "cell_type": "code",
   "execution_count": null,
   "metadata": {},
   "outputs": [],
   "source": [
    "def BANCO_Scothiabank(Rut=0,Dv='',valprop=0,monto=0,plazo=0,fijo=0,prod='',uf=0):\n",
    "    Rut=Rut;Dv=Dv;ValorPropiedad=valprop;MontoCre=monto;Plazo=plazo;plazofijo=fijo;producto=prod;UF=uf;financiamiento=MontoCre/ValorPropiedad;\n",
    "\n",
    "    from urllib3.exceptions import InsecureRequestWarning \n",
    "    requests.packages.urllib3.disable_warnings(category=InsecureRequestWarning)\n",
    "    http = urllib3.PoolManager()\n",
    "    result = []\n",
    "    url = 'https://cloudservtrx.scotiabank.cl/sweb/bff/digital-onboarding/v1/subject'\n",
    "    data ='{\"fullName\":\"Sebastian\",\"birthDate\":\"1983-12-10\",\"documentId\":\"156543179\",\"documentNumber\":\"516352572\",\"nationality\":\"CL\",\"employmentSituation\":\"renewable\",\"employmentSalary\":\"1800000\",\"flow\":\"mortgage\",\"mail\":\"a@a.cl\",\"phone\":\"22222222\"}'\n",
    "    session=requests.Session()\n",
    "    session.verify=False\n",
    "    r = session.post(url, data, headers={'Host': 'cloudservtrx.scotiabank.cl','Connection': 'keep-alive','Content-Length': '238','sec-ch-ua': '\" Not A;Brand\";v=\"99\", \"Chromium\";v=\"96\", \"Google     Chrome\";v=\"96\"','Accept': 'application/json, text/plain, */*','Content-Type': 'application/json;charset=UTF-8','sec-ch-ua-mobile': '?0','User-Agent': 'Mozilla/5.0 (Windows NT 10.0; Win64; x64) AppleWebKit/537.36 (KHTML, like Gecko) Chrome/96.0.4664.45 Safari/537.36','sec-ch-ua-platform': \"Windows\",'Origin': 'https://cloudservtrx.scotiabank.cl','Sec-Fetch-Site': 'same-origin','Sec-Fetch-Mode': 'cors','Sec-Fetch-Dest': 'empty','Referer': 'https://cloudservtrx.scotiabank.cl/sweb/mfe/digital-mortgage/','Accept-Encoding': 'gzip, deflate, br','Accept-Language': 'es-ES,es;q=0.9','Cookie': '_gcl_au=1.1.788135032.1639139775; _ga=GA1.2.853226005.1639139764; _gid=GA1.2.2039130611.1639139764; _fbp=fb.1.1639139775491.511865; _gat_UA-16719465-13=1; _gali=simulation-button'}, verify=False )\n",
    "\n",
    "    \n",
    "    \n",
    "    url = 'https://cloudservtrx.scotiabank.cl/sweb/bff/mortgage-loan/v1/simulator-period'\n",
    "    data ='{\"uuid\":\"@UID\",\"customer_id\":\"@RUT\",\"customer_id_dv\":\"@DV\",\"salary\":\"800000\",\"credit_term\":[\"15\",\"20\",\"25\"],\"credit_customer\":true,\"product_information\":   {\"product_type_public\":\"MORTGAGE\",\"credi_amount\":\"@MCRED$\",\"credi_amount_uf\":\"@MCRED\",\"housing_situation\":\"new\",\"credit_term\":\"@Plazo\",\"down_payment\":\"23196294\",\"down_payment_uf\":\"751\",\"grace_months\":\"0\"}}'\n",
    "    data=data.replace('@UID',r.json()['uuid']).replace('@RUT',Rut).replace('@DV',Dv).replace('@MCRED',str(MontoCre)).replace('@MCRED$',str(MontoCre*uf)).replace('@Plazo',str(Plazo))\n",
    "    session=requests.Session()\n",
    "    session.verify=False\n",
    "    r = session.post(url, data, headers={\n",
    "    'Accept': 'application/json, text/plain, */*','Accept-Encoding': 'gzip, deflate, br','Accept-Language': 'es-ES,es;q=0.9','Connection': 'keep-alive','Content-Length': '388','Content-Type':         'application/json;charset=UTF-8','Cookie': '_gcl_au=1.1.788135032.1639139775; _ga=GA1.2.853226005.1639139764; _gid=GA1.2.2039130611.1639139764; _fbp=fb.1.1639139775491.511865; _gat_UA-16719465-13=1; _gali=sernacCardtab_btnCalcular','Host': 'cloudservtrx.scotiabank.cl','Origin': 'https://cloudservtrx.scotiabank.cl','Referer': 'https://cloudservtrx.scotiabank.cl/sweb/mfe/digital-mortgage/credit-simulator','sec-ch-ua': '\" Not A;Brand\";v=\"99\", \"Chromium\";v=\"96\", \"Google Chrome\";v=\"96\"','sec-ch-ua-mobile': '?0','sec-ch-ua-platform': '\"Windows\"','Sec-Fetch-Dest': 'empty',\n",
    "'Sec-Fetch-Mode': 'cors','Sec-Fetch-Site': 'same-origin','User-Agent': 'Mozilla/5.0 (Windows NT 10.0; Win64; x64) AppleWebKit/537.36 (KHTML, like Gecko) Chrome/96.0.4664.45 Safari/537.36'}, verify=False )\n",
    "\n",
    "    salida=pd.json_normalize(r.json()['calculator'])\n",
    "    tt=pd.DataFrame([])\n",
    "    tt['Tasa']=salida['annual_rate'].astype('float').round(2)\n",
    "    tt['CAE']=salida['cae'].astype('float').round(2)\n",
    "    tt['Div_SSEG']=salida['cae'].astype('float').round(2)\n",
    "    tt['SEG_INCSIS']=salida['safe_eire_earthquake'].astype('float').round(2)\n",
    "    tt['SEG_DESG']=salida['insurance_uf'].astype('float').round(2)\n",
    "    tt['PRIM_DIV']=None\n",
    "    tt['COSTO_TOTCRED']=salida['total_credit_cost_uf'].astype('float').round(0)\n",
    "    tt['TOT_DIVUF']=salida['value_dividend_uf'].astype('float').round(0)\n",
    "    tt['TOT_DIV$']=salida['value_dividend'].astype('float').round(0)\n",
    "    tt['Plazo']=salida['years_credit'].astype('float').round(0)\n",
    "    tt['TOT_Seg']=(tt.SEG_INCSIS)+(tt.SEG_DESG)\n",
    "    tt['Dividendo_CSEG']=(tt.Div_SSEG)+(tt.SEG_INCSIS)+(tt.SEG_DESG)\n",
    "    tt['ValorProp']=ValorPropiedad\n",
    "    tt['MontoCre']=MontoCre\n",
    "    tt['Fecha']=date.today()\n",
    "    tt['Producto']='HIP-FIJA'\n",
    "    tt['PlazoFijo']=PLZFIJO\n",
    "    tt['Banco']='SCOTIABANK'\n",
    "    return(tt)"
   ]
  },
  {
   "cell_type": "code",
   "execution_count": 1,
   "metadata": {},
   "outputs": [],
   "source": [
    "import pandas as pd \n",
    "import numpy as np\n",
    "from datetime import date, datetime, timedelta\n",
    "#import lxml.html\n",
    "import urllib3\n",
    "import json\n",
    "import requests \n",
    "import time\n",
    "import random\n",
    "import lxml\n",
    "import lxml.html\n",
    "UF=29650\n",
    "delay_time=31"
   ]
  },
  {
   "cell_type": "code",
   "execution_count": 3,
   "metadata": {},
   "outputs": [],
   "source": [
    "Rut='15654317'"
   ]
  },
  {
   "cell_type": "code",
   "execution_count": 4,
   "metadata": {},
   "outputs": [
    {
     "ename": "NameError",
     "evalue": "name 'Dv' is not defined",
     "output_type": "error",
     "traceback": [
      "\u001b[1;31m---------------------------------------------------------------------------\u001b[0m",
      "\u001b[1;31mNameError\u001b[0m                                 Traceback (most recent call last)",
      "\u001b[1;32m~\\AppData\\Local\\Temp/ipykernel_5252/1534383236.py\u001b[0m in \u001b[0;36m<module>\u001b[1;34m\u001b[0m\n\u001b[0;32m     13\u001b[0m \u001b[0murl\u001b[0m \u001b[1;33m=\u001b[0m \u001b[1;34m'https://cloudservtrx.scotiabank.cl/sweb/bff/mortgage-loan/v1/simulator-period'\u001b[0m\u001b[1;33m\u001b[0m\u001b[1;33m\u001b[0m\u001b[0m\n\u001b[0;32m     14\u001b[0m \u001b[0mdata\u001b[0m \u001b[1;33m=\u001b[0m\u001b[1;34m'{\"uuid\":\"@UID\",\"customer_id\":\"@RUT\",\"customer_id_dv\":\"@DV\",\"salary\":\"800000\",\"credit_term\":[\"15\",\"20\",\"25\"],\"credit_customer\":true,\"product_information\": \\{\"product_type_public\":\"MORTGAGE\",\"credi_amount\":\"@MCRED$\",\"credi_amount_uf\":\"@MCRED\",\"housing_situation\":\"new\",\"credit_term\":\"@Plazo\",\"down_payment\":\"23196294\",\"down_payment_uf\":\"751\",\"grace_months\":\"0\"}}'\u001b[0m\u001b[1;33m\u001b[0m\u001b[1;33m\u001b[0m\u001b[0m\n\u001b[1;32m---> 15\u001b[1;33m \u001b[0mdata\u001b[0m\u001b[1;33m=\u001b[0m\u001b[0mdata\u001b[0m\u001b[1;33m.\u001b[0m\u001b[0mreplace\u001b[0m\u001b[1;33m(\u001b[0m\u001b[1;34m'@UID'\u001b[0m\u001b[1;33m,\u001b[0m\u001b[0mr\u001b[0m\u001b[1;33m.\u001b[0m\u001b[0mjson\u001b[0m\u001b[1;33m(\u001b[0m\u001b[1;33m)\u001b[0m\u001b[1;33m[\u001b[0m\u001b[1;34m'uuid'\u001b[0m\u001b[1;33m]\u001b[0m\u001b[1;33m)\u001b[0m\u001b[1;33m.\u001b[0m\u001b[0mreplace\u001b[0m\u001b[1;33m(\u001b[0m\u001b[1;34m'@RUT'\u001b[0m\u001b[1;33m,\u001b[0m\u001b[0mRut\u001b[0m\u001b[1;33m)\u001b[0m\u001b[1;33m.\u001b[0m\u001b[0mreplace\u001b[0m\u001b[1;33m(\u001b[0m\u001b[1;34m'@DV'\u001b[0m\u001b[1;33m,\u001b[0m\u001b[0mDv\u001b[0m\u001b[1;33m)\u001b[0m\u001b[1;33m.\u001b[0m\u001b[0mreplace\u001b[0m\u001b[1;33m(\u001b[0m\u001b[1;34m'@MCRED'\u001b[0m\u001b[1;33m,\u001b[0m\u001b[0mstr\u001b[0m\u001b[1;33m(\u001b[0m\u001b[0mMontoCre\u001b[0m\u001b[1;33m)\u001b[0m\u001b[1;33m)\u001b[0m\u001b[1;33m.\u001b[0m\u001b[0mreplace\u001b[0m\u001b[1;33m(\u001b[0m\u001b[1;34m'@MCRED$'\u001b[0m\u001b[1;33m,\u001b[0m\u001b[0mstr\u001b[0m\u001b[1;33m(\u001b[0m\u001b[0mMontoCre\u001b[0m\u001b[1;33m*\u001b[0m\u001b[0muf\u001b[0m\u001b[1;33m)\u001b[0m\u001b[1;33m)\u001b[0m\u001b[1;33m.\u001b[0m\u001b[0mreplace\u001b[0m\u001b[1;33m(\u001b[0m\u001b[1;34m'@Plazo'\u001b[0m\u001b[1;33m,\u001b[0m\u001b[0mstr\u001b[0m\u001b[1;33m(\u001b[0m\u001b[0mPlazo\u001b[0m\u001b[1;33m)\u001b[0m\u001b[1;33m)\u001b[0m\u001b[1;33m\u001b[0m\u001b[1;33m\u001b[0m\u001b[0m\n\u001b[0m\u001b[0;32m     16\u001b[0m \u001b[0msession\u001b[0m\u001b[1;33m=\u001b[0m\u001b[0mrequests\u001b[0m\u001b[1;33m.\u001b[0m\u001b[0mSession\u001b[0m\u001b[1;33m(\u001b[0m\u001b[1;33m)\u001b[0m\u001b[1;33m\u001b[0m\u001b[1;33m\u001b[0m\u001b[0m\n\u001b[0;32m     17\u001b[0m \u001b[0msession\u001b[0m\u001b[1;33m.\u001b[0m\u001b[0mverify\u001b[0m\u001b[1;33m=\u001b[0m\u001b[1;32mFalse\u001b[0m\u001b[1;33m\u001b[0m\u001b[1;33m\u001b[0m\u001b[0m\n",
      "\u001b[1;31mNameError\u001b[0m: name 'Dv' is not defined"
     ]
    }
   ],
   "source": [
    "\n",
    "from urllib3.exceptions import InsecureRequestWarning \n",
    "requests.packages.urllib3.disable_warnings(category=InsecureRequestWarning)\n",
    "http = urllib3.PoolManager()\n",
    "result = []\n",
    "url = 'https://cloudservtrx.scotiabank.cl/sweb/bff/digital-onboarding/v1/subject'\n",
    "data ='{\"fullName\":\"Sebastian\",\"birthDate\":\"1983-12-10\",\"documentId\":\"156543179\",\"documentNumber\":\"516352572\",\"nationality\":\"CL\",\"employmentSituation\":\"renewable\",\"employmentSalary\":\"1800000\",\"flow\":\"mortgage\",\"mail\":\"a@a.cl\",\"phone\":\"22222222\"}'\n",
    "session=requests.Session()\n",
    "session.verify=False\n",
    "r = session.post(url, data, headers={'Host': 'cloudservtrx.scotiabank.cl','Connection': 'keep-alive','Content-Length': '238','sec-ch-ua': '\" Not A;Brand\";v=\"99\", \"Chromium\";v=\"96\", \"Google     Chrome\";v=\"96\"','Accept': 'application/json, text/plain, */*','Content-Type': 'application/json;charset=UTF-8','sec-ch-ua-mobile': '?0','User-Agent': 'Mozilla/5.0 (Windows NT 10.0; Win64; x64) AppleWebKit/537.36 (KHTML, like Gecko) Chrome/96.0.4664.45 Safari/537.36','sec-ch-ua-platform': \"Windows\",'Origin': 'https://cloudservtrx.scotiabank.cl','Sec-Fetch-Site': 'same-origin','Sec-Fetch-Mode': 'cors','Sec-Fetch-Dest': 'empty','Referer': 'https://cloudservtrx.scotiabank.cl/sweb/mfe/digital-mortgage/','Accept-Encoding': 'gzip, deflate, br','Accept-Language': 'es-ES,es;q=0.9','Cookie': '_gcl_au=1.1.788135032.1639139775; _ga=GA1.2.853226005.1639139764; _gid=GA1.2.2039130611.1639139764; _fbp=fb.1.1639139775491.511865; _gat_UA-16719465-13=1; _gali=simulation-button'}, verify=False )\n",
    "\n",
    "\n",
    "\n",
    "url = 'https://cloudservtrx.scotiabank.cl/sweb/bff/mortgage-loan/v1/simulator-period'\n",
    "data ='{\"uuid\":\"@UID\",\"customer_id\":\"@RUT\",\"customer_id_dv\":\"@DV\",\"salary\":\"800000\",\"credit_term\":[\"15\",\"20\",\"25\"],\"credit_customer\":true,\"product_information\": \\{\"product_type_public\":\"MORTGAGE\",\"credi_amount\":\"@MCRED$\",\"credi_amount_uf\":\"@MCRED\",\"housing_situation\":\"new\",\"credit_term\":\"@Plazo\",\"down_payment\":\"23196294\",\"down_payment_uf\":\"751\",\"grace_months\":\"0\"}}'\n",
    "data=data.replace('@UID',r.json()['uuid']).replace('@RUT',Rut).replace('@DV',Dv).replace('@MCRED',str(MontoCre)).replace('@MCRED$',str(MontoCre*uf)).replace('@Plazo',str(Plazo))\n",
    "session=requests.Session()\n",
    "session.verify=False\n",
    "r = session.post(url, data, headers={\n",
    "'Accept': 'application/json, text/plain, */*','Accept-Encoding': 'gzip, deflate, br','Accept-Language': 'es-ES,es;q=0.9','Connection': 'keep-alive','Content-Length': '388','Content-Type':         'application/json;charset=UTF-8','Cookie': '_gcl_au=1.1.788135032.1639139775; _ga=GA1.2.853226005.1639139764; _gid=GA1.2.2039130611.1639139764; _fbp=fb.1.1639139775491.511865; _gat_UA-16719465-13=1; _gali=sernacCardtab_btnCalcular','Host': 'cloudservtrx.scotiabank.cl','Origin': 'https://cloudservtrx.scotiabank.cl','Referer': 'https://cloudservtrx.scotiabank.cl/sweb/mfe/digital-mortgage/credit-simulator','sec-ch-ua': '\" Not A;Brand\";v=\"99\", \"Chromium\";v=\"96\", \"Google Chrome\";v=\"96\"','sec-ch-ua-mobile': '?0','sec-ch-ua-platform': '\"Windows\"','Sec-Fetch-Dest': 'empty',\n",
    "'Sec-Fetch-Mode': 'cors','Sec-Fetch-Site': 'same-origin','User-Agent': 'Mozilla/5.0 (Windows NT 10.0; Win64; x64) AppleWebKit/537.36 (KHTML, like Gecko) Chrome/96.0.4664.45 Safari/537.36'}, verify=False )\n",
    "\n",
    "salida=pd.json_normalize(r.json()['calculator'])\n",
    "tt=pd.DataFrame([])\n",
    "tt['Tasa']=salida['annual_rate'].astype('float').round(2)\n",
    "tt['CAE']=salida['cae'].astype('float').round(2)\n",
    "tt['Div_SSEG']=salida['cae'].astype('float').round(2)\n",
    "tt['SEG_INCSIS']=salida['safe_eire_earthquake'].astype('float').round(2)\n",
    "tt['SEG_DESG']=salida['insurance_uf'].astype('float').round(2)\n",
    "tt['PRIM_DIV']=None\n",
    "tt['COSTO_TOTCRED']=salida['total_credit_cost_uf'].astype('float').round(0)\n",
    "tt['TOT_DIVUF']=salida['value_dividend_uf'].astype('float').round(0)\n",
    "tt['TOT_DIV$']=salida['value_dividend'].astype('float').round(0)\n",
    "tt['Plazo']=salida['years_credit'].astype('float').round(0)\n",
    "tt['TOT_Seg']=(tt.SEG_INCSIS)+(tt.SEG_DESG)\n",
    "tt['Dividendo_CSEG']=(tt.Div_SSEG)+(tt.SEG_INCSIS)+(tt.SEG_DESG)\n",
    "tt['ValorProp']=ValorPropiedad\n",
    "tt['MontoCre']=MontoCre\n",
    "tt['Fecha']=date.today()\n",
    "tt['Producto']='HIP-FIJA'\n",
    "tt['PlazoFijo']=PLZFIJO\n",
    "tt['Banco']='SCOTIABANK'"
   ]
  },
  {
   "cell_type": "code",
   "execution_count": null,
   "metadata": {},
   "outputs": [],
   "source": [
    "\n",
    "Rut=Rut;Dv=Dv;ValorPropiedad=valprop;MontoCre=monto;Plazo=plazo;plazofijo=fijo;producto=prod;UF=uf;financiamiento=MontoCre/ValorPropiedad;\n",
    "from urllib3.exceptions import InsecureRequestWarning \n",
    "requests.packages.urllib3.disable_warnings(category=InsecureRequestWarning)\n",
    "http = urllib3.PoolManager()\n",
    "result = []\n",
    "url = 'https://cloudservtrx.scotiabank.cl/sweb/bff/digital-onboarding/v1/subject'\n",
    "data ='{\n",
    "\"fullName\":\"Sebastian\",\"birthDate\":\"1983-12-10\",\"documentId\":\"156543179\",\"documentNumber\":\"516352572\",\"nationality\":\"CL\",\"employmentSituation\":\"renewable\",\"employmentSalary\":\"1800000\",\"flow\":\"mortgage\",\"mail\":\"a@a.cl\",\"phone\":\"22222222\"}'\n",
    "session=requests.Session()\n",
    "session.verify=False\n",
    "r = session.post(url, data, headers={'Host': 'cloudservtrx.scotiabank.cl','Connection': 'keep-alive','Content-Length': '238','sec-ch-ua': '\" Not A;Brand\";v=\"99\", \"Chromium\";v=\"96\", \"Google   Chrome\";v=\"96\"','Accept': 'application/json, text/plain, */*','Content-Type': 'application/json;charset=UTF-8','sec-ch-ua-mobile': '?0','User-Agent': 'Mozilla/5.0 (Windows NT 10.0; Win64; x64) AppleWebKit/537.36 (KHTML, like Gecko) Chrome/96.0.4664.45 Safari/537.36','sec-ch-ua-platform': \"Windows\",'Origin': 'https://cloudservtrx.scotiabank.cl','Sec-Fetch-Site': 'same-origin','Sec-Fetch-Mode': 'cors','Sec-Fetch-Dest': 'empty','Referer': 'https://cloudservtrx.scotiabank.cl/sweb/mfe/digital-mortgage/','Accept-Encoding': 'gzip, deflate, br','Accept-Language': 'es-ES,es;q=0.9','Cookie': '_gcl_au=1.1.788135032.1639139775; _ga=GA1.2.853226005.1639139764; _gid=GA1.2.2039130611.1639139764; _fbp=fb.1.1639139775491.511865; _gat_UA-16719465-13=1; _gali=simulation-button'}, verify=False )\n"
   ]
  },
  {
   "cell_type": "code",
   "execution_count": 5,
   "metadata": {},
   "outputs": [],
   "source": [
    "from urllib3.exceptions import InsecureRequestWarning \n",
    "requests.packages.urllib3.disable_warnings(category=InsecureRequestWarning)\n",
    "http = urllib3.PoolManager()\n",
    "result = []\n",
    "url = 'https://cloudservtrx.scotiabank.cl/sweb/bff/digital-onboarding/v1/subject'\n",
    "data ='{\"fullName\":\"Sebastian\",\"birthDate\":\"1983-12-10\",\"documentId\":\"156543179\",\"documentNumber\":\"516352572\",\"nationality\":\"CL\",\"employmentSituation\":\"renewable\",\"employmentSalary\":\"1800000\",\"flow\":\"mortgage\",\"mail\":\"a@a.cl\",\"phone\":\"22222222\"}'\n",
    "session=requests.Session()\n",
    "session.verify=False\n",
    "r = session.post(url, data, headers={'Host': 'cloudservtrx.scotiabank.cl','Connection': 'keep-alive','Content-Length': '238','sec-ch-ua': '\" Not A;Brand\";v=\"99\", \"Chromium\";v=\"96\", \"Google Chrome\";v=\"96\"',\n",
    "'Accept': 'application/json, text/plain, */*','Content-Type': 'application/json;charset=UTF-8','sec-ch-ua-mobile': '?0','User-Agent': 'Mozilla/5.0 (Windows NT 10.0; Win64; x64) AppleWebKit/537.36 (KHTML, like Gecko) Chrome/96.0.4664.45 Safari/537.36','sec-ch-ua-platform': \"Windows\",'Origin': 'https://cloudservtrx.scotiabank.cl','Sec-Fetch-Site': 'same-origin','Sec-Fetch-Mode': 'cors','Sec-Fetch-Dest': 'empty','Referer': 'https://cloudservtrx.scotiabank.cl/sweb/mfe/digital-mortgage/','Accept-Encoding': 'gzip, deflate, br','Accept-Language': 'es-ES,es;q=0.9','Cookie': '_gcl_au=1.1.788135032.1639139775; _ga=GA1.2.853226005.1639139764; _gid=GA1.2.2039130611.1639139764; _fbp=fb.1.1639139775491.511865; _gat_UA-16719465-13=1; _gali=simulation-button'}, verify=False )\n"
   ]
  },
  {
   "cell_type": "code",
   "execution_count": null,
   "metadata": {},
   "outputs": [],
   "source": []
  }
 ],
 "metadata": {
  "interpreter": {
   "hash": "c637c68690e55ca4b11850d51320520bb27e1ffcb80917df62e917f03b70d0c8"
  },
  "kernelspec": {
   "display_name": "Python 3.9.9 64-bit",
   "language": "python",
   "name": "python3"
  },
  "language_info": {
   "codemirror_mode": {
    "name": "ipython",
    "version": 3
   },
   "file_extension": ".py",
   "mimetype": "text/x-python",
   "name": "python",
   "nbconvert_exporter": "python",
   "pygments_lexer": "ipython3",
   "version": "3.9.9"
  },
  "orig_nbformat": 4
 },
 "nbformat": 4,
 "nbformat_minor": 2
}
