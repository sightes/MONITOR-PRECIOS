{
 "cells": [
  {
   "cell_type": "code",
   "execution_count": 1,
   "metadata": {},
   "outputs": [],
   "source": [
    "import pandas as pd \n",
    "import numpy as np\n",
    "from datetime import date, datetime, timedelta\n",
    "import urllib3\n",
    "import json\n",
    "import requests \n",
    "import time\n",
    "import random\n",
    "import lxml\n",
    "import lxml.html\n",
    "import json"
   ]
  },
  {
   "cell_type": "code",
   "execution_count": 6,
   "metadata": {},
   "outputs": [],
   "source": [
    "from urllib3.exceptions import InsecureRequestWarning \n",
    "requests.packages.urllib3.disable_warnings(category=InsecureRequestWarning)\n",
    "http = urllib3.PoolManager()\n",
    "result = []\n",
    "url = 'https://www.santander.cl/transa/productos/tc_conti/pampa/AvanceTCR.asp'\n",
    "data ='valMonto3=&boolSimular=1&valMinimo=&nomTC=Mastercard+Gold+LANPASS&panTC=XXXX-3003&minTC=50000&maxTC=5100000&montcta=&codtcr=1017&sldTCR=103.343&PanTCR=XXXX-3003&Codifi=0442&CodProd=80&CodProdCta=&NumTarj=800008449073&CtaCte=&montoSolicitado=0&tasaInteresMensual=0&numeroCuotasMensuales=0&CAE=0&valorCuota=0&comisionAvance=0&montoBrutoAvance=0&Impuesto=0&NUMMESF=0&IMPCAPI=0&IMPINTE=0&IMPTOTA=&ComAper=&CODCONC=&IMPDSO=&IMPCAUX=&COMIAUX=&FECALTA=&CentAlta=&CentAlta2=&subProdu=&valmonto=103343&valmonto2=&valcuota=03&montoAvance=100.000&cmbCuotas=03'\n",
    "session=requests.Session()\n",
    "session.verify=False\n",
    "r = session.post(url, data, headers={\n",
    "'Accept': 'text/html,application/xhtml+xml,application/xml;q=0.9,image/avif,image/webp,image/apng,*/*;q=0.8,application/signed-exchange;v=b3;q=0.9',\n",
    "'Accept-Encoding': 'gzip, deflate, br',\n",
    "'Accept-Language': 'es-ES,es;q=0.9',\n",
    "'Cache-Control': 'max-age=0',\n",
    "'Connection': 'keep-alive',\n",
    "'Content-Length': '548',\n",
    "'Content-Type': 'application/x-www-form-urlencoded',\n",
    "'Host': 'www.santander.cl',\n",
    "'Origin': 'https://www.santander.cl',\n",
    "'Referer': 'https://www.santander.cl/transa/productos/tc_conti/pampa/avancetcr.asp',\n",
    "'sec-ch-ua': '\" Not;A Brand\";v=\"99\", \"Google Chrome\";v=\"97\", \"Chromium\";v=\"97\"',\n",
    "'sec-ch-ua-mobile': '?0',\n",
    "'sec-ch-ua-platform': '\"Windows\"',\n",
    "'Sec-Fetch-Dest': 'iframe',\n",
    "'Sec-Fetch-Mode': 'navigate',\n",
    "'Sec-Fetch-Site': 'same-origin',\n",
    "'Sec-Fetch-User': '?1',\n",
    "'Upgrade-Insecure-Requests': '1',\n",
    "'User-Agent': 'Mozilla/5.0 (Windows NT 10.0; Win64; x64) AppleWebKit/537.36 (KHTML, like Gecko) Chrome/97.0.4692.71 Safari/537.36   '\n",
    "}, verify=False )\n"
   ]
  },
  {
   "cell_type": "code",
   "execution_count": 7,
   "metadata": {},
   "outputs": [
    {
     "data": {
      "text/plain": [
       "'\\r\\n\\r\\n<html>\\r\\n\\t<head>\\r\\n\\t<meta http-equiv=\"expires\" content=\"0\">\\r\\n\\t<meta http-equiv=\"Cache-Control\" content=\"no-cache\">\\r\\n\\t<meta http-equiv=\"Pragma\" content=\"no-cache\">\\r\\n\\r\\n\\t<script src=\"js/jquery-1.9.0.min.js\" language=\"JavaScript\"></script>\\r\\n\\t<script language=\\'Javascript\\'>\\t$(document).ready(function()\\t{\\t\\t$.ajax({\\t        url: \\'/CuentasClaras/logout.xhtml\\',\\t\\t        type: \\'POST\\',\\t\\t        async: true,\\t\\t        cache: false\\t\\t        });\\t\\t});\\t\\t\\t</script>\\r\\n<body>\\r\\n\\r\\n\\t\\t<script language=\"javascript\" type=\"text/javascript\">window.top.location.href=\\'http://www.santander.cl\\';</script>\\r\\n\\t\\r\\n</body></html>\\r\\n<SCRIPT>document.form1.submit();</SCRIPT>'"
      ]
     },
     "execution_count": 7,
     "metadata": {},
     "output_type": "execute_result"
    }
   ],
   "source": [
    "r.text"
   ]
  }
 ],
 "metadata": {
  "interpreter": {
   "hash": "a527597b6ce441dd723db7e5b84154497f79d3f7cebc6c6c692410c0fa80b6a5"
  },
  "kernelspec": {
   "display_name": "Python 3.6.8 32-bit",
   "language": "python",
   "name": "python3"
  },
  "language_info": {
   "codemirror_mode": {
    "name": "ipython",
    "version": 3
   },
   "file_extension": ".py",
   "mimetype": "text/x-python",
   "name": "python",
   "nbconvert_exporter": "python",
   "pygments_lexer": "ipython3",
   "version": "3.6.8"
  },
  "orig_nbformat": 4
 },
 "nbformat": 4,
 "nbformat_minor": 2
}
