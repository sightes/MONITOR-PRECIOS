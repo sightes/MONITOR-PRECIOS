{
 "cells": [
  {
   "cell_type": "code",
   "execution_count": 100,
   "metadata": {},
   "outputs": [
    {
     "data": {
      "text/html": [
       "<div>\n",
       "<style scoped>\n",
       "    .dataframe tbody tr th:only-of-type {\n",
       "        vertical-align: middle;\n",
       "    }\n",
       "\n",
       "    .dataframe tbody tr th {\n",
       "        vertical-align: top;\n",
       "    }\n",
       "\n",
       "    .dataframe thead th {\n",
       "        text-align: right;\n",
       "    }\n",
       "</style>\n",
       "<table border=\"1\" class=\"dataframe\">\n",
       "  <thead>\n",
       "    <tr style=\"text-align: right;\">\n",
       "      <th></th>\n",
       "      <th>Tasa</th>\n",
       "      <th>CAE</th>\n",
       "      <th>Div_SSEG</th>\n",
       "      <th>SEG_INCSIS</th>\n",
       "      <th>SEG_DESG</th>\n",
       "      <th>PRIM_DIV</th>\n",
       "      <th>COSTO_TOTCRED</th>\n",
       "      <th>TOT_DIVUF</th>\n",
       "      <th>TOT_DIV$</th>\n",
       "      <th>Plazo</th>\n",
       "      <th>TOT_Seg</th>\n",
       "      <th>Dividendo_CSEG</th>\n",
       "      <th>ValorProp</th>\n",
       "      <th>MontoCre</th>\n",
       "      <th>Fecha</th>\n",
       "      <th>Producto</th>\n",
       "      <th>PlazoFijo</th>\n",
       "      <th>Banco</th>\n",
       "    </tr>\n",
       "  </thead>\n",
       "  <tbody>\n",
       "    <tr>\n",
       "      <th>0</th>\n",
       "      <td>4.45</td>\n",
       "      <td>5.01</td>\n",
       "      <td>46.2349</td>\n",
       "      <td>1.5291</td>\n",
       "      <td>0.609</td>\n",
       "      <td>0</td>\n",
       "      <td>0</td>\n",
       "      <td>48.373</td>\n",
       "      <td>1.57725e+06</td>\n",
       "      <td>20</td>\n",
       "      <td>2.1381</td>\n",
       "      <td>48.373</td>\n",
       "      <td>8750</td>\n",
       "      <td>7000</td>\n",
       "      <td>2022-05-26</td>\n",
       "      <td>HIP-FIJA</td>\n",
       "      <td>0</td>\n",
       "      <td>SANT&gt;5</td>\n",
       "    </tr>\n",
       "  </tbody>\n",
       "</table>\n",
       "</div>"
      ],
      "text/plain": [
       "   Tasa   CAE Div_SSEG SEG_INCSIS SEG_DESG PRIM_DIV COSTO_TOTCRED TOT_DIVUF  \\\n",
       "0  4.45  5.01  46.2349     1.5291    0.609        0             0    48.373   \n",
       "\n",
       "      TOT_DIV$ Plazo TOT_Seg Dividendo_CSEG ValorProp MontoCre       Fecha  \\\n",
       "0  1.57725e+06    20  2.1381         48.373      8750     7000  2022-05-26   \n",
       "\n",
       "   Producto PlazoFijo   Banco  \n",
       "0  HIP-FIJA         0  SANT>5  "
      ]
     },
     "execution_count": 100,
     "metadata": {},
     "output_type": "execute_result"
    }
   ],
   "source": [
    "import pandas as pd \n",
    "import numpy as np\n",
    "from datetime import date, datetime, timedelta\n",
    "import lxml.html\n",
    "import urllib3\n",
    "import json\n",
    "import requests \n",
    "import time\n",
    "import random\n",
    "\n",
    "Rut='15974060'\n",
    "Dv='9'\n",
    "valprop=8750\n",
    "monto=7000\n",
    "plz=20\n",
    "plz_fijo=20\n",
    "prod='fija'\n",
    "uf=32606\n",
    "\n",
    "\n",
    "\n",
    "\n",
    "\n",
    "rut=Rut\n",
    "dv=Dv\n",
    "ValorPropiedad=valprop\n",
    "MontoCre=monto\n",
    "plazo=plz\n",
    "if prod=='mixta':\n",
    "    plz_fijo=5\n",
    "    tipotasa=\"2\"\n",
    "else :\n",
    "    plz_fijo=0\n",
    "    tipotasa=\"1\"\n",
    "monto=MontoCre\n",
    "pie=ValorPropiedad-MontoCre\n",
    "http = urllib3.PoolManager()\n",
    "rutDv = rutDv = f\"{int(rut):,}\".replace(',','.') + '-' +dv\n",
    "## rut formato 9.999.999-9\n",
    "result = pd.DataFrame([],columns=['Banco','Tasa','Dividendo_SSEG','SEG_DESG','SEG_INC_SIS','CAE','Plazo'])\n",
    "url = 'https://www.santander.cl/simuladores/simulador_hipotecario/simulacion.asp'\n",
    "\n",
    "#for dtramo in ['111','112','156','135','131','121','120','110']: \n",
    "col=['Tasa','CAE','Div_SSEG','SEG_INCSIS','SEG_DESG','PRIM_DIV','COSTO_TOTCRED','TOT_DIVUF','TOT_DIV$','Plazo','TOT_Seg','Dividendo_CSEG','ValorProp','MontoCre','Fecha','Producto','PlazoFijo','Banco']\n",
    "tt=pd.DataFrame([], columns=col)\n",
    "for dtramo in ['110']: \n",
    "    curr_result=[]\n",
    "    #Tramos_Renta_SANT=pd.DataFrame( [['111','0-0.4'],['112','0.4-0.55'],['156','0.55-0.8'],\n",
    "    #                                  ['135',' 0.8-1.3'],['131','1.3-1.7'],['121','1.7-2.5'],\n",
    "    #                                      ['120','2.5-5'],['110','>5']] , columns=['COD', 'TRAMO'])\n",
    "    Tramos_Renta_SANT=pd.DataFrame( [['156','0.55-0.8'],['131','1.3-1.7'],['120','2.5-5'],['110','>5']] , columns=['COD', 'TRAMO'])\n",
    "    CURR_TRAMO=Tramos_Renta_SANT.iloc[np.where(Tramos_Renta_SANT.COD==dtramo)[0][0]].TRAMO\n",
    "    data = \"montoCalculado=\"+ f\"{monto:,}\".replace(',','.') + \"&noaprob=0&camp_id=&valcamp=&d_pin=&uf=\" + f\"{uf:,}\".replace(',','.') + \"%2C34&IDLOGIN=BancoSantander&o=&val1=&cl=false&origen=PB&utm_source=&utm_medium=&utm_campaign=&utm_term=&utm_content=&id_gdconv=\" + datetime.now().strftime('%Y%m%d') +\"9%3A49%3A23&d_rut=\"+ rutDv +\"&rut=&nombre=sad&apaterno=asd&amaterno=asd&email=a@b.com&codigoarea=2&telefono=22222222&fec_fono=26-5-2022&region=&comuna=BUIN&valor_propiedad=\"+f\"{ValorPropiedad:,}\".replace(',','.')+\"&valor_propiedad2=\"+f\"{(ValorPropiedad-pie):,}\".replace(',','.')+\"&valor_pie=\"+f\"{pie:,}\".replace(',','.')+\"&monto=\"+f\"{MontoCre:,}\".replace(',','.')+\"&monto2=\"+f\"{MontoCre:,}\".replace(',','.')+\"&porcentaj=\"+ str(int(100*((MontoCre)/(ValorPropiedad)))) +\"&plazo=\" + str(plazo) + \"&tipo_tasa=\"+ tipotasa +\"&propiedad=Casa&tipo_propiedad=Nueva&sg_desgravamen=1&sg_incendio=1&dtramo=\"+ dtramo +\"&valuedtramo=&opc=&otrorut=&region1=RM&comuna1=BUIN&z=&valorpyme=\"                                                                                                                                                                                                                              \n",
    "    session=requests.Session()\n",
    "    session.verify=False\n",
    "    r = session.post( url,data, \\\n",
    "                        headers={'Content-Type': 'application/x-www-form-urlencoded', 'Referer': 'https://www.santander.cl/simuladores/simulador_hipotecario/simulador.asp', 'User-Agent': 'Mozilla/5.0 (Windows NT 10.0; Win64; x64) AppleWebKit/537.36 (KHTML, like Gecko) Chrome/79.0.3945.130 Safari/537.36'} )\n",
    "    root = lxml.html.fromstring(r.text)\n",
    "\n",
    "    records = root.xpath(\"////*/table[@class = 'd-simulacion']/tr[1]/td[5]/strong\")\n",
    "    tasa = [ record.text.replace('%','').strip().replace(',','.') for record in records]\n",
    "    records = root.xpath(\"////*/td[text() = 'Simulación' ]/ancestor::tr/td[@class = 'verde']/strong\")\n",
    "    dividendo = [ record.text.replace('UF','').strip().replace(',','.') for record in records]\n",
    "    records = root.xpath(\"////*/td[text() = 'Simulación' ]/ancestor::tr/td[4]/strong\")\n",
    "    SEG_DESG = [ record.text.replace('UF','').strip().replace(',','.') for record in records]\n",
    "    records = root.xpath(\"////*/td[text() = 'Simulación' ]/ancestor::tr/td[5]/strong\")\n",
    "    SEG_INC_SIS = [ record.text.replace('UF','').strip().replace(',','.') for record in records]\n",
    "    records = root.xpath(\"////*/td[text() = 'Porcentaje de Financiamiento' ]/ancestor::tr/td[2]/strong\")\n",
    "    ltv = [ record.text.replace('%','').strip() for record in records]\n",
    "    ##Total Crédito\n",
    "    records = root.xpath(\"////*/td[text() = 'Total Crédito' ]/ancestor::tr/td[2]/strong\")\n",
    "    monto_credito = [ record.text.replace('UF','').strip() for record in records]\n",
    "    ## cae\n",
    "    records = root.xpath(\"////*/td[text() = 'Carga Anual Equivalente (CAE)' ]/ancestor::tr/td[2]/strong\")\n",
    "    cae = [ record.text.replace('%','').strip().replace(',','.') for record in records]\n",
    "    tt=tt.append(pd.DataFrame(np.asarray([float(tasa[0]),\n",
    "    float(cae[0]),\n",
    "    float(dividendo[1]),\n",
    "    float(SEG_INC_SIS [0]),\n",
    "    float(SEG_DESG [0]),\n",
    "    0,\n",
    "    0,\n",
    "    float(dividendo[1])+float(SEG_INC_SIS [0])+float(SEG_DESG [0]),\n",
    "    (float(dividendo[1])+float(SEG_INC_SIS [0])+float(SEG_DESG [0]))*uf,\n",
    "    plazo,\n",
    "    float(SEG_INC_SIS [0])+float(SEG_DESG [0]),\n",
    "    float(dividendo[1])+float(SEG_INC_SIS [0])+float(SEG_DESG [0]),\n",
    "    ValorPropiedad,\n",
    "    MontoCre,\n",
    "    date.today(),\n",
    "    'HIP-FIJA',\n",
    "    plz_fijo,\n",
    "    'SANT'+CURR_TRAMO ]).reshape(1,-1),columns=col))\n",
    "    if prod=='mixta':\n",
    "        tt=tt.dropna()\n",
    "        tt['Producto']='HIP-MIX'+ str(plz_fijo)+'Y'\n",
    "    else :\n",
    "        tt['Producto']='HIP-FIJA'\n",
    "tt=tt.drop_duplicates()   \n",
    "tt"
   ]
  },
  {
   "cell_type": "code",
   "execution_count": null,
   "metadata": {},
   "outputs": [],
   "source": [
    "'montoCalculado=7.000&noaprob=0&camp_id=&valcamp=&d_pin=&uf=32.000%2C34&IDLOGIN=BancoSantander&o=&val1=&cl=false&origen=PB&utm_source=&utm_medium=&utm_campaign=&utm_term=&utm_content=&id_gdconv=202205269%3A49%3A23&d_rut=15.654.317-9&rut=&nombre=sad&apaterno=asd&amaterno=asd&email=a@b.com&codigoarea=2&telefono=22222222&fec_fono=26-5-2022&region=&comuna=BUIN&valor_propiedad=8.750&valor_propiedad2=7.000&valor_pie=1.750&monto=7.000&monto2=7.000&porcentaj=80&plazo=20&tipo_tasa=1&propiedad=Casa&tipo_propiedad=Nueva&sg_desgravamen=1&sg_incendio=1&dtramo=110&valuedtramo=&opc=&otrorut=&region1=RM&comuna1=BUIN&z=&valorpyme='\n"
   ]
  },
  {
   "cell_type": "code",
   "execution_count": 94,
   "metadata": {},
   "outputs": [
    {
     "data": {
      "text/plain": [
       "'15,654,317'"
      ]
     },
     "execution_count": 94,
     "metadata": {},
     "output_type": "execute_result"
    }
   ],
   "source": [
    "'montoCalculado=7.000&noaprob=0&camp_id=&valcamp=&d_pin=&uf=32.606%2C34&IDLOGIN=BancoSantander&o=&val1=&cl=false&origen=PB&utm_source=&utm_medium=&utm_campaign=&utm_term=&utm_content=&id_gdconv=202205269%3A49%3A23&d_rut=15.974.060-9&rut=&nombre=sad&apaterno=asd&amaterno=asd&email=sighs%40gmail.com&codigoarea=2&telefono=22222222&fec_fono=26-5-2022&region=&comuna=BUIN&valor_propiedad=8.750&valor_propiedad2=8000&valor_pie=1.750&monto=7.000&monto2=7000&porcentaj=80&plazo=20&tipo_tasa=1&propiedad=Casa&tipo_propiedad=Nueva&sg_desgravamen=1&sg_incendio=1&dtramo=110&valuedtramo=&opc=&otrorut=&region1=RM&comuna1=BUIN&z=&valorpyme='"
   ]
  },
  {
   "cell_type": "code",
   "execution_count": 82,
   "metadata": {},
   "outputs": [
    {
     "data": {
      "text/plain": [
       "'montoCalculado=7.000&noaprob=0&camp_id=&valcamp=&d_pin=&uf=32.606%2C34&IDLOGIN=BancoSantander&o=&val1=&cl=false&origen=PB&utm_source=&utm_medium=&utm_campaign=&utm_term=&utm_content=&id_gdconv=202205269%3A49%3A23&d_rut=15.974.060-9&rut=&nombre=sad&apaterno=asd&amaterno=asd&email=sighs%40gmail.com&codigoarea=2&telefono=22222222&fec_fono=26-5-2022&region=&comuna=BUIN&valor_propiedad=8.750&valor_propiedad2=8000&valor_pie=1.750&monto=7.000&monto2=7000&porcentaj=80&plazo=20&tipo_tasa=1&propiedad=Casa&tipo_propiedad=Nueva&sg_desgravamen=1&sg_incendio=1&dtramo=110&valuedtramo=&opc=&otrorut=&region1=RM&comuna1=BUIN&z=&valorpyme='"
      ]
     },
     "execution_count": 82,
     "metadata": {},
     "output_type": "execute_result"
    }
   ],
   "source": [
    "'montoCalculado=7.000&noaprob=0&camp_id=&valcamp=&d_pin=&uf=32.606%2C34&IDLOGIN=BancoSantander&o=&val1=&cl=false&origen=PB&utm_source=&utm_medium=&utm_campaign=&utm_term=&utm_content=&id_gdconv=202205269%3A49%3A23&d_rut=15.974.060-9&rut=&nombre=sad&apaterno=asd&amaterno=asd&email=sighs%40gmail.com&codigoarea=2&telefono=22222222&fec_fono=26-5-2022&region=&comuna=BUIN&valor_propiedad=8.750&valor_propiedad2=8000&valor_pie=1.750&monto=7.000&monto2=7000&porcentaj=80&plazo=20&tipo_tasa=1&propiedad=Casa&tipo_propiedad=Nueva&sg_desgravamen=1&sg_incendio=1&dtramo=110&valuedtramo=&opc=&otrorut=&region1=RM&comuna1=BUIN&z=&valorpyme='"
   ]
  }
 ],
 "metadata": {
  "interpreter": {
   "hash": "87c7be4dff236368a8568580279bb7fe9d93492e8fc92078d2b6640cf6ec3b6e"
  },
  "kernelspec": {
   "display_name": "Python 3.6.8 32-bit",
   "language": "python",
   "name": "python3"
  },
  "language_info": {
   "codemirror_mode": {
    "name": "ipython",
    "version": 3
   },
   "file_extension": ".py",
   "mimetype": "text/x-python",
   "name": "python",
   "nbconvert_exporter": "python",
   "pygments_lexer": "ipython3",
   "version": "3.6.8"
  },
  "orig_nbformat": 4
 },
 "nbformat": 4,
 "nbformat_minor": 2
}
