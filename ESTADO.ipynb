{
 "cells": [
  {
   "cell_type": "code",
   "execution_count": null,
   "metadata": {},
   "outputs": [],
   "source": [
    "from urllib3.exceptions import InsecureRequestWarning \n",
    "requests.packages.urllib3.disable_warnings(category=InsecureRequestWarning)\n",
    "http = urllib3.PoolManager()\n",
    "result = []\n",
    "url = 'https://asesorhipotecario.serviciosbancoestado.cl/ws_hipotecario/procesa1.php'\n",
    "data ={\"formulario_tipo\":\"hipotecario\",\"funcionario\":\"0\",\"port_financiera\":\"1\",\"dia_01\":\"00\",\"mes_01\":\"00\",\"anio_01\":\"0000\",\"actividad_01\":\" \",\"renta_01\":\"2\",\"renta_02\":\"2\",\"dia_02\":\"01\",\"mes_02\":\"01\",\"anio_02\":\"1900\",\"actividad_02\":\" \",\"ubicacion_01\":\"0\",\"tcanals\":\"asesor\",\"opcion_01\":\"1\",\"tipo_01\":\"1\",\"region_01\":\"13\",\"condicion_01\":\"1\",\"nombre_01\":\"sebastian\",\"rut_01\":\"15654317-9\",\"email_01\":\"aaaaaaaaa@sght.cl\",\"uf_01\":\"3.750,00\",\"pesos_01\":\"115.410.187,50\",\"dolar_01\":\"\",\"uf_02\":\"\",\"pesos_02\":\"\",\"dolar_02\":\"\",\"plazo_entrega\":\"1\",\"uf_03\":\"750,00\",\"pesos_03\":\"23.082.037,50\",\"dolar_03\":\"\",\"plazo_credito\":\"20\",\"uf\":\"30776.05\"}\n",
    "session=requests.Session()\n",
    "session.verify=False\n",
    "r = session.post(url, data, headers={\n",
    "'path': '/ws_hipotecario/procesa1.php',\n",
    "'scheme': 'https',\n",
    "'accept': 'text/html, */*; q=0.01',\n",
    "'content-length': '1053',\n",
    "'content-type': 'application/x-www-form-urlencoded; charset=UTF-8',\n",
    "'origin': 'https://www.bancoestado.cl',\n",
    "'refererv': 'https://www.bancoestado.cl/',\n",
    "'sec-ch-ua': '\" Not A;Brand\";v=\"99\", \"Chromium\";v=\"96\", \"Google Chrome\";v=\"96\"',\n",
    "'sec-ch-ua-mobile': '?0',\n",
    "'sec-ch-ua-platform': '\"Windows\"',\n",
    "'sec-fetch-dest': 'empty',\n",
    "'sec-fetch-mode': 'cors',\n",
    "'sec-fetch-site': 'cross-site',\n",
    "'user-agent': 'Mozilla/5.0 (Windows NT 10.0; Win64; x64) AppleWebKit/537.36 (KHTML, like Gecko) Chrome/96.0.4664.45 Safari/537.36'}, verify=False )"
   ]
  }
 ],
 "metadata": {
  "language_info": {
   "name": "python"
  },
  "orig_nbformat": 4
 },
 "nbformat": 4,
 "nbformat_minor": 2
}
