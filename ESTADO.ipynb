{
 "cells": [
  {
   "cell_type": "code",
   "execution_count": 154,
   "metadata": {},
   "outputs": [
    {
     "data": {
      "text/plain": [
       "'31068.58|805.72'"
      ]
     },
     "execution_count": 154,
     "metadata": {},
     "output_type": "execute_result"
    }
   ],
   "source": [
    "\n",
    "import pandas as pd \n",
    "import numpy as np\n",
    "from datetime import date, datetime, timedelta\n",
    "import lxml.html\n",
    "import urllib3\n",
    "import json\n",
    "import requests \n",
    "import time\n",
    "import random\n",
    "from urllib3.exceptions import InsecureRequestWarning \n",
    "requests.packages.urllib3.disable_warnings(category=InsecureRequestWarning)\n",
    "http = urllib3.PoolManager()\n",
    "result = []\n",
    "session=requests.Session()\n",
    "session.verify=False\n",
    "url ='https://asesorhipotecario.serviciosbancoestado.cl/ws_hipotecario/factores.php'\n",
    "data={\"datos\": \"vacio\"}\n",
    "r = session.post(url, data, headers={\n",
    "'authority': 'asesorhipotecario.serviciosbancoestado.cl',\n",
    "'method': 'POST',\n",
    "'path': '/ws_hipotecario/factores.php',\n",
    "'scheme': 'https',\n",
    "'accept': 'text/html, */*; q=0.01',\n",
    "'accept-encoding': 'gzip, deflate, br',\n",
    "'accept-language': 'en-US,en;q=0.9,es;q=0.8',\n",
    "'content-length': '11',\n",
    "'content-type': 'application/x-www-form-urlencoded; charset=UTF-8',\n",
    "'origin': 'https://www.bancoestado.cl',\n",
    "'referer': 'https://www.bancoestado.cl/',\n",
    "'sec-ch-ua': '\" Not;A Brand\";v=\"99\", \"Microsoft Edge\";v=\"97\", \"Chromium\";v=\"97\"',\n",
    "'sec-ch-ua-mobile': '?0',\n",
    "'sec-ch-ua-platform': '\"Windows\"',\n",
    "'sec-fetch-dest': 'empty',\n",
    "'sec-fetch-mode': 'cors',\n",
    "'sec-fetch-site': 'cross-site',\n",
    "'user-agent': 'Mozilla/5.0 (Windows NT 10.0; Win64; x64) AppleWebKit/537.36 (KHTML, like Gecko) Chrome/97.0.4692.71 Safari/537.36 Edg/97.0.1072.55'   \n",
    "}\n",
    ", verify=False )\n",
    "r.text"
   ]
  },
  {
   "cell_type": "code",
   "execution_count": 156,
   "metadata": {},
   "outputs": [
    {
     "data": {
      "text/plain": [
       "'31068.58'"
      ]
     },
     "execution_count": 156,
     "metadata": {},
     "output_type": "execute_result"
    }
   ],
   "source": [
    "r.text.split('|')[0]"
   ]
  },
  {
   "cell_type": "code",
   "execution_count": 18,
   "metadata": {},
   "outputs": [],
   "source": [
    "import pandas as pd \n",
    "import numpy as np\n",
    "from datetime import date, datetime, timedelta\n",
    "import lxml.html\n",
    "import urllib3\n",
    "import json\n",
    "import requests \n",
    "import time\n",
    "import random\n",
    "from urllib3.exceptions import InsecureRequestWarning \n",
    "requests.packages.urllib3.disable_warnings(category=InsecureRequestWarning)\n",
    "http = urllib3.PoolManager()\n",
    "result = []\n",
    "session=requests.Session()\n",
    "session.verify=False\n",
    "url ='https://asesorhipotecario.serviciosbancoestado.cl/ws_hipotecario/procesa1.php'\n",
    "data={'datos':'{\"formulario_tipo\":\"hipotecario\",\"funcionario\":\"0\",\"port_financiera\":\"1\",\"dia_01\":\"00\",\"mes_01\":\"00\",\"anio_01\":\"0000\",\"actividad_01\":\" \",\"renta_01\":\"2\",\"renta_02\":\"2\",\"dia_02\":\"01\",\"mes_02\":\"01\",\"anio_02\":\"1900\",\"actividad_02\":\" \",\"ubicacion_01\":\"0\",\"tcanals\":\"asesor\",\"opcion_01\":\"1\",\"tipo_01\":\"1\",\"region_01\":\"10\",\"condicion_01\":\"1\",\"nombre_01\":\"sadsadas\",\"rut_01\":\"15654317-9\",\"email_01\":\"sightes@gmail.com\",\"uf_01\":\"3.750,00\",\"pesos_01\":\"116.507.175\",\"dolar_01\":\"\",\"uf_02\":\"\",\"pesos_02\":\"\",\"dolar_02\":\"\",\"plazo_entrega\":\"1\",\"uf_03\":\"750,00\",\"pesos_03\":\"23.301.435\",\"dolar_03\":\"\",\"plazo_credito\":\"20\",\"uf\":\"31068.58\"}'}\n",
    "r = session.post(url, data, headers={\n",
    "'authority': 'asesorhipotecario.serviciosbancoestado.cl',\n",
    "'method': 'POST',\n",
    "'path': '/ws_hipotecario/procesa1.php',\n",
    "'scheme': 'https',\n",
    "'accept': 'text/html, */*; q=0.01',\n",
    "'accept-encoding': 'gzip, deflate, br',\n",
    "'accept-language': 'en-US,en;q=0.9,es;q=0.8',\n",
    "'content-length': '1042',\n",
    "'content-type': 'application/x-www-form-urlencoded; charset=UTF-8',\n",
    "'origin': 'https://www.bancoestado.cl',\n",
    "'referer': 'https://www.bancoestado.cl/',\n",
    "'sec-ch-ua': '\" Not;A Brand\";v=\"99\", \"Microsoft Edge\";v=\"97\", \"Chromium\";v=\"97\"',\n",
    "'sec-ch-ua-mobile': '?0',\n",
    "'sec-ch-ua-platform': '\"Windows\"',\n",
    "'sec-fetch-dest': 'empty',\n",
    "'sec-fetch-mode': 'cors',\n",
    "'sec-fetch-site': 'cross-site',\n",
    "'user-agent': 'Mozilla/5.0 (Windows NT 10.0; Win64; x64) AppleWebKit/537.36 (KHTML, like Gecko) Chrome/97.0.4692.71 Safari/537.36 Edg/97.0.1072.55'\n",
    "\n",
    "}\n",
    ", verify=False )\n",
    "root=lxml.html.fromstring(r.text)"
   ]
  },
  {
   "cell_type": "code",
   "execution_count": 78,
   "metadata": {},
   "outputs": [
    {
     "data": {
      "text/plain": [
       "'ok*<style>\\n    .portabilidad-contenedor__tooltip {\\n        position: relative;\\n        display: inline;\\n    }\\n\\n    .portabilidad__tooltip {\\n        position: absolute;\\n        border: 1px #ccc solid;\\n        border-top: 2px #fa9600 solid;\\n        padding: 10px;\\n        border-radius: 4px;\\n        display: none;\\n        width: 200px;\\n        top: -110px;\\n        left: -230px;\\n        background-color: #ffffff;\\n        font-size: 16px;\\n        text-align: center;\\n    }\\n</style>\\n<div id=\"vrWrapper\">\\n    <div class=\"inner-content-logo\">\\n        <!--content-->\\n        <h1 id=\"logo\">\\n            <div>\\n                <a href=\"/\">\\n                    <img src=\"images/logo-banco-estado.jpg\" alt=\"Banco Estado\" />\\n                </a>\\n            </div>\\n        </h1>\\n    </div>\\n    <!-- Titulos -->\\n    <div class=\"encabezado\">\\n        <h1>Asesor Hipotecario</h1>\\n        <div id=\"titulo_a\">\\n            <h2>Respuesta en 5 d&iacute;as h&aacute;biles.</h2>\\n        </div>\\n        <!-- Pasos Miga -->\\n        <div class=\"miga\">\\n            <div class=\"estado3\"><span>1</span> Ingreso de Datos</div>\\n            <div class=\"elegido estado1\"><span>2</span> Resultado</div>\\n            <div><span>3</span> Solicitud de Cr&eacute;dito</div>\\n        </div>\\n        <div class=\"clear\"></div>\\n    </div>\\n    <!-- Fin Titulos -->\\n    <!-- Contenidos -->\\n    <!-- Monto Crédito -->\\n    <div class=\"montoCredito\">\\n        <h4>Monto del Cr&eacute;dito\\n            <div>UF <span>3.000,00</span></div>\\n            <div><span>80,00%</span> de financiamiento</div>\\n        </h4>\\n    </div>\\n    <!-- Plazo Elegido en el Paso Anterior -->\\n    <div class=\"plazo\">\\n        <h4>Plazo <span id=\"plazo_numero\">20</span> a&ntilde;os</h4>\\n    </div>\\n    <div class=\"plazoMobile\">\\n        <h4>Plazo <span id=\"plazo_numero_mobile\">20</span> a&ntilde;os</h4>\\n    </div>\\n    <!-- Opción 1: recomendada tasa fija -->\\n    <div class=\"resumenSimulacionTitulo\">\\n        <h3>CONDICIONES MUTUO HIPOTECARIO TASA FIJA:</h3>\\n                    <h4>La tasa de inter&eacute;s indicada considera la apertura o mantenci&oacute;n de una cuenta corriente o chequera electr&oacute;nica y pago autom&aacute;tico del dividendo con cargo a dicha cuenta.</h4>\\n                    <br />\\n        &bull; Tasa Fija en UF para todo el periodo de duración del crédito.<br />\\n        &bull; Distintas alternativas de plazo, desde 8 a 30 años.<br />\\n        &bull; Puedes elegir de 1 a 6 meses de período de gracia.<br />\\n        &bull; A partir del segundo año, tienes la opción de no pagar 1 ó 2 dividendos anuales, definidos al solicitar el Crédito, a excepción de créditos con Subsidio.<br />\\n                    &bull; Puedes pagar tu Dividendo mediante PAC (Pago Automático de Cuentas) y lo descontamos de tu Cuenta Corriente, CuentaRUT ó Chequera Electrónica de BancoEstado.<br />\\n            </div>\\n    <div id=\"bordeTasaFija\">\\n        <div class=\"bordeMovil\"></div>\\n        <table width=\"100%\" border=\"0\" cellspacing=\"0\" cellpadding=\"0\" class=\"resumenSimulacion seleccionable\">\\n            <thead>\\n                <tr>\\n                    <th></th>\\n                                            <th ><input  type=\"radio\" name=\"tipo_plazo_credito\" id=\"tf_8\" value=\"8\"></th>\\n                                            <th ><input  type=\"radio\" name=\"tipo_plazo_credito\" id=\"tf_8\" value=\"12\"></th>\\n                                            <th ><input  type=\"radio\" name=\"tipo_plazo_credito\" id=\"tf_8\" value=\"15\"></th>\\n                                            <th class=\"elegida\"><input checked type=\"radio\" name=\"tipo_plazo_credito\" id=\"tf_8\" value=\"20\"></th>\\n                                            <th ><input  type=\"radio\" name=\"tipo_plazo_credito\" id=\"tf_8\" value=\"25\"></th>\\n                                            <th ><input  type=\"radio\" name=\"tipo_plazo_credito\" id=\"tf_8\" value=\"30\"></th>\\n                                    </tr>\\n                <tr>\\n                    <th>A&ntilde;os Plazo</th>\\n                                            <th >8</th>\\n                                            <th >12</th>\\n                                            <th >15</th>\\n                                            <th class=\"elegida\">20</th>\\n                                            <th >25</th>\\n                                            <th >30</th>\\n                                    </tr>\\n            </thead>\\n            <tbody>\\n                <tr>\\n                    <td class=\"borde\">Tasa Anual %</td>\\n                                            <td class=\"borde\">4,20</td>\\n                                            <td class=\"borde\">4,55</td>\\n                                            <td class=\"borde\">4,65</td>\\n                                            <td class=\"borde\">4,89</td>\\n                                            <td class=\"borde\">4,95</td>\\n                                            <td class=\"borde\">4,95</td>\\n                                    </tr>\\n                <tr>\\n                    <td class=\"borde\">Dividendo sin seguro en UF</td>\\n                                            <td class=\"borde\">36,7373</td>\\n                                            <td class=\"borde\">26,9378</td>\\n                                            <td class=\"borde\">23,0323</td>\\n                                            <td class=\"borde\">19,4420</td>\\n                                            <td class=\"borde\">17,2611</td>\\n                                            <td class=\"borde\">15,8146</td>\\n                                    </tr>\\n                <tr>\\n                    <td class=\"borde\">Dividendo sin seguro en $</td>\\n                                            <td class=\"borde\">1.141.375</td>\\n                                            <td class=\"borde\">836.918</td>\\n                                            <td class=\"borde\">715.580</td>\\n                                            <td class=\"borde\">604.035</td>\\n                                            <td class=\"borde\">536.279</td>\\n                                            <td class=\"borde\">491.338</td>\\n                                    </tr>\\n                <tr>\\n                    <td class=\"borde\">Dividendo con seguro en UF</td>\\n                                            <td class=\"borde\">37,8162</td>\\n                                            <td class=\"borde\">28,0166</td>\\n                                            <td class=\"borde\">24,1112</td>\\n                                            <td class=\"borde\">20,5209</td>\\n                                            <td class=\"borde\">18,3400</td>\\n                                            <td class=\"borde\">16,8935</td>\\n                                    </tr>\\n                <tr class=\"cfcuf\">\\n                    <td class=\"borde\">Dividendo con seguro en $</td>\\n                                            <td class=\"borde\">1.174.894</td>\\n                                            <td class=\"borde\">870.437</td>\\n                                            <td class=\"borde\">749.100</td>\\n                                            <td class=\"borde\">637.554</td>\\n                                            <td class=\"borde\">569.798</td>\\n                                            <td class=\"borde\">524.857</td>\\n                                    </tr>\\n                <tr class=\"intercalado\">\\n                    <td class=\"borde\">Costo final del cr&eacute;dito (UF)</td>\\n                                            <td class=\"borde\">3.630,3515</td>\\n                                            <td class=\"borde\">4.034,3969</td>\\n                                            <td class=\"borde\">4.340,0092</td>\\n                                            <td class=\"borde\">4.925,0057</td>\\n                                            <td class=\"borde\">5.502,0021</td>\\n                                            <td class=\"borde\">6.081,6582</td>\\n                                    </tr>\\n            </tbody>\\n            <tfoot>\\n                <tr>\\n                    <td class=\"borde-pie\">Carga Anual Equivalente (CAE)</td>\\n                                            <td class=\"borde-pie\">4,89</td>\\n                                            <td class=\"borde-pie\">5,18</td>\\n                                            <td class=\"borde-pie\">5,26</td>\\n                                            <td class=\"borde-pie\">5,44</td>\\n                                            <td class=\"borde-pie\">5,46</td>\\n                                            <td class=\"borde-pie\">5,43</td>\\n                                    </tr>\\n            </tfoot>\\n        </table>\\n                <table width=\"100%\" border=\"0\" cellspacing=\"0\" cellpadding=\"0\" class=\"resumenSimulacion\">\\n            <thead>\\n                <tr>\\n                    <th>Gastos Operacionales Referenciales</th>\\n                    <th> </th>\\n                <tr>\\n                </tr>\\n            </thead>\\n            <tbody>\\n                <tr>\\n                    <td class=\"borde\">Conservador de Bienes Raíces </td>\\n                    <td class=\"borde\">18 UF</td>\\n                </tr>\\n                <tr>\\n                    <td class=\"borde\">Escrituración</td>\\n                    <td class=\"borde\">2,7 UF</td>\\n                </tr>\\n                <tr>\\n                    <td class=\"borde\">Estudio de Títulos </td>\\n                    <td class=\"borde\">2,52 UF</td>\\n                </tr>\\n                    <td class=\"borde\">Gastos Notariales </td>\\n                    <td class=\"borde\">4 UF</td>\\n                </tr>\\n                <tr>\\n                    <td class=\"borde\">Servicio de Inscripción CBR </td>\\n                    <td class=\"borde\">0 UF</td>\\n                </tr>\\n                <tr>\\n                    <td class=\"borde\">Tasación </td>\\n                    <td class=\"borde\">2,75 UF</td>\\n                </tr>\\n                <tr>\\n                    <td class=\"borde\">Impuesto de Timbres y Estampillas</td>\\n                    <td class=\"borde\">6,00 UF</td>                </tr>\\n            </tbody>\\n            <tfoot>\\n                <td class=\"borde-pie\"></td>\\n                <td class=\"borde-pie\"></td>\\n            </tfoot>\\n        </table>\\n    </div>\\n    <!--ACORDEON MOBILE-->\\n    <div class=\"panel-group\" id=\"accordion\">\\n                    <div class=\"panel panel-default\">\\n                                <div class=\"panel-heading\">\\n                    <h4 class=\"panel-title\">\\n                        <a data-toggle=\"collapse\" data-parent=\"#accordion\" href=\"#collapseOne\">\\n                            <input type=\"radio\" name=\"tipo_plazo_credito_accordion\" id=\"tm_8\"  value=\"8\">\\n                            <label for=\"tf_8\">A&ntilde;os Plazo <strong>8</strong></label>\\n                        </a>\\n                    </h4>\\n                </div>\\n                                <div id=\"collapseOne\" class=\"panel-collapse collapse\">\\n                    <div class=\"panel-body\">\\n                        <table width=\"100%\" border=\"0\" cellspacing=\"0\" cellpadding=\"0\" class=\"tablaValoresTasa\">\\n                            <tbody>\\n                                <tr>\\n                                    <td width=\"45%\">Tasa Anual %</td>\\n                                    <td width=\"55%\" nowrap class=\"valores\">4,20</td>\\n                                </tr>\\n                                <tr>\\n                                    <td>Dividendo sin seguro en UF</td>\\n                                    <td nowrap class=\"valores\">36,7373</td>\\n                                </tr>\\n                                <tr>\\n                                    <td>Dividendo sin seguro en $</td>\\n                                    <td nowrap class=\"valores\">1.141.375</td>\\n                                </tr>\\n                                <tr>\\n                                    <td>Dividendo con seguro en UF</td>\\n                                    <td nowrap class=\"valores\">37,8162</td>\\n                                </tr>\\n                                <tr>\\n                                    <td>Dividendo con seguro en $</td>\\n                                    <td nowrap class=\"valores\">1.174.894</td>\\n                                </tr>\\n                                <tr>\\n                                    <td><span>Costo final del cr&eacute;dito (UF)</span></td>\\n                                    <td nowrap class=\"valores\"><span>3.630,3515</span></td>\\n                                </tr>\\n                                <tr>\\n                                    <td><strong>Carga Anual Equivalente (CAE)</strong></td>\\n                                    <td nowrap class=\"valores\"><strong>4,89</strong></td>\\n                                </tr>\\n                            </tbody>\\n                        </table>\\n                    </div>\\n                </div>\\n            </div>\\n                    <div class=\"panel panel-default\">\\n                                <div class=\"panel-heading\">\\n                    <h4 class=\"panel-title\">\\n                        <a data-toggle=\"collapse\" data-parent=\"#accordion\" href=\"#collapseOne\">\\n                            <input type=\"radio\" name=\"tipo_plazo_credito_accordion\" id=\"tm_12\"  value=\"12\">\\n                            <label for=\"tf_12\">A&ntilde;os Plazo <strong>12</strong></label>\\n                        </a>\\n                    </h4>\\n                </div>\\n                                <div id=\"collapseOne\" class=\"panel-collapse collapse\">\\n                    <div class=\"panel-body\">\\n                        <table width=\"100%\" border=\"0\" cellspacing=\"0\" cellpadding=\"0\" class=\"tablaValoresTasa\">\\n                            <tbody>\\n                                <tr>\\n                                    <td width=\"45%\">Tasa Anual %</td>\\n                                    <td width=\"55%\" nowrap class=\"valores\">4,55</td>\\n                                </tr>\\n                                <tr>\\n                                    <td>Dividendo sin seguro en UF</td>\\n                                    <td nowrap class=\"valores\">26,9378</td>\\n                                </tr>\\n                                <tr>\\n                                    <td>Dividendo sin seguro en $</td>\\n                                    <td nowrap class=\"valores\">836.918</td>\\n                                </tr>\\n                                <tr>\\n                                    <td>Dividendo con seguro en UF</td>\\n                                    <td nowrap class=\"valores\">28,0166</td>\\n                                </tr>\\n                                <tr>\\n                                    <td>Dividendo con seguro en $</td>\\n                                    <td nowrap class=\"valores\">870.437</td>\\n                                </tr>\\n                                <tr>\\n                                    <td><span>Costo final del cr&eacute;dito (UF)</span></td>\\n                                    <td nowrap class=\"valores\"><span>4.034,3969</span></td>\\n                                </tr>\\n                                <tr>\\n                                    <td><strong>Carga Anual Equivalente (CAE)</strong></td>\\n                                    <td nowrap class=\"valores\"><strong>5,18</strong></td>\\n                                </tr>\\n                            </tbody>\\n                        </table>\\n                    </div>\\n                </div>\\n            </div>\\n                    <div class=\"panel panel-default\">\\n                                <div class=\"panel-heading\">\\n                    <h4 class=\"panel-title\">\\n                        <a data-toggle=\"collapse\" data-parent=\"#accordion\" href=\"#collapseOne\">\\n                            <input type=\"radio\" name=\"tipo_plazo_credito_accordion\" id=\"tm_15\"  value=\"15\">\\n                            <label for=\"tf_15\">A&ntilde;os Plazo <strong>15</strong></label>\\n                        </a>\\n                    </h4>\\n                </div>\\n                                <div id=\"collapseOne\" class=\"panel-collapse collapse\">\\n                    <div class=\"panel-body\">\\n                        <table width=\"100%\" border=\"0\" cellspacing=\"0\" cellpadding=\"0\" class=\"tablaValoresTasa\">\\n                            <tbody>\\n                                <tr>\\n                                    <td width=\"45%\">Tasa Anual %</td>\\n                                    <td width=\"55%\" nowrap class=\"valores\">4,65</td>\\n                                </tr>\\n                                <tr>\\n                                    <td>Dividendo sin seguro en UF</td>\\n                                    <td nowrap class=\"valores\">23,0323</td>\\n                                </tr>\\n                                <tr>\\n                                    <td>Dividendo sin seguro en $</td>\\n                                    <td nowrap class=\"valores\">715.580</td>\\n                                </tr>\\n                                <tr>\\n                                    <td>Dividendo con seguro en UF</td>\\n                                    <td nowrap class=\"valores\">24,1112</td>\\n                                </tr>\\n                                <tr>\\n                                    <td>Dividendo con seguro en $</td>\\n                                    <td nowrap class=\"valores\">749.100</td>\\n                                </tr>\\n                                <tr>\\n                                    <td><span>Costo final del cr&eacute;dito (UF)</span></td>\\n                                    <td nowrap class=\"valores\"><span>4.340,0092</span></td>\\n                                </tr>\\n                                <tr>\\n                                    <td><strong>Carga Anual Equivalente (CAE)</strong></td>\\n                                    <td nowrap class=\"valores\"><strong>5,26</strong></td>\\n                                </tr>\\n                            </tbody>\\n                        </table>\\n                    </div>\\n                </div>\\n            </div>\\n                    <div class=\"panel panel-default\">\\n                                <div class=\"panel-heading show\">\\n                    <h4 class=\"panel-title\">\\n                        <a data-toggle=\"collapse\" data-parent=\"#accordion\" href=\"#collapseOne\">\\n                            <input type=\"radio\" name=\"tipo_plazo_credito_accordion\" id=\"tm_20\" checked value=\"20\">\\n                            <label for=\"tf_20\">A&ntilde;os Plazo <strong>20</strong></label>\\n                        </a>\\n                    </h4>\\n                </div>\\n                                <div id=\"collapseOne\" class=\"panel-collapse collapse in\">\\n                    <div class=\"panel-body\">\\n                        <table width=\"100%\" border=\"0\" cellspacing=\"0\" cellpadding=\"0\" class=\"tablaValoresTasa\">\\n                            <tbody>\\n                                <tr>\\n                                    <td width=\"45%\">Tasa Anual %</td>\\n                                    <td width=\"55%\" nowrap class=\"valores\">4,89</td>\\n                                </tr>\\n                                <tr>\\n                                    <td>Dividendo sin seguro en UF</td>\\n                                    <td nowrap class=\"valores\">19,4420</td>\\n                                </tr>\\n                                <tr>\\n                                    <td>Dividendo sin seguro en $</td>\\n                                    <td nowrap class=\"valores\">604.035</td>\\n                                </tr>\\n                                <tr>\\n                                    <td>Dividendo con seguro en UF</td>\\n                                    <td nowrap class=\"valores\">20,5209</td>\\n                                </tr>\\n                                <tr>\\n                                    <td>Dividendo con seguro en $</td>\\n                                    <td nowrap class=\"valores\">637.554</td>\\n                                </tr>\\n                                <tr>\\n                                    <td><span>Costo final del cr&eacute;dito (UF)</span></td>\\n                                    <td nowrap class=\"valores\"><span>4.925,0057</span></td>\\n                                </tr>\\n                                <tr>\\n                                    <td><strong>Carga Anual Equivalente (CAE)</strong></td>\\n                                    <td nowrap class=\"valores\"><strong>5,44</strong></td>\\n                                </tr>\\n                            </tbody>\\n                        </table>\\n                    </div>\\n                </div>\\n            </div>\\n                    <div class=\"panel panel-default\">\\n                                <div class=\"panel-heading\">\\n                    <h4 class=\"panel-title\">\\n                        <a data-toggle=\"collapse\" data-parent=\"#accordion\" href=\"#collapseOne\">\\n                            <input type=\"radio\" name=\"tipo_plazo_credito_accordion\" id=\"tm_25\"  value=\"25\">\\n                            <label for=\"tf_25\">A&ntilde;os Plazo <strong>25</strong></label>\\n                        </a>\\n                    </h4>\\n                </div>\\n                                <div id=\"collapseOne\" class=\"panel-collapse collapse\">\\n                    <div class=\"panel-body\">\\n                        <table width=\"100%\" border=\"0\" cellspacing=\"0\" cellpadding=\"0\" class=\"tablaValoresTasa\">\\n                            <tbody>\\n                                <tr>\\n                                    <td width=\"45%\">Tasa Anual %</td>\\n                                    <td width=\"55%\" nowrap class=\"valores\">4,95</td>\\n                                </tr>\\n                                <tr>\\n                                    <td>Dividendo sin seguro en UF</td>\\n                                    <td nowrap class=\"valores\">17,2611</td>\\n                                </tr>\\n                                <tr>\\n                                    <td>Dividendo sin seguro en $</td>\\n                                    <td nowrap class=\"valores\">536.279</td>\\n                                </tr>\\n                                <tr>\\n                                    <td>Dividendo con seguro en UF</td>\\n                                    <td nowrap class=\"valores\">18,3400</td>\\n                                </tr>\\n                                <tr>\\n                                    <td>Dividendo con seguro en $</td>\\n                                    <td nowrap class=\"valores\">569.798</td>\\n                                </tr>\\n                                <tr>\\n                                    <td><span>Costo final del cr&eacute;dito (UF)</span></td>\\n                                    <td nowrap class=\"valores\"><span>5.502,0021</span></td>\\n                                </tr>\\n                                <tr>\\n                                    <td><strong>Carga Anual Equivalente (CAE)</strong></td>\\n                                    <td nowrap class=\"valores\"><strong>5,46</strong></td>\\n                                </tr>\\n                            </tbody>\\n                        </table>\\n                    </div>\\n                </div>\\n            </div>\\n                    <div class=\"panel panel-default\">\\n                                <div class=\"panel-heading\">\\n                    <h4 class=\"panel-title\">\\n                        <a data-toggle=\"collapse\" data-parent=\"#accordion\" href=\"#collapseOne\">\\n                            <input type=\"radio\" name=\"tipo_plazo_credito_accordion\" id=\"tm_30\"  value=\"30\">\\n                            <label for=\"tf_30\">A&ntilde;os Plazo <strong>30</strong></label>\\n                        </a>\\n                    </h4>\\n                </div>\\n                                <div id=\"collapseOne\" class=\"panel-collapse collapse\">\\n                    <div class=\"panel-body\">\\n                        <table width=\"100%\" border=\"0\" cellspacing=\"0\" cellpadding=\"0\" class=\"tablaValoresTasa\">\\n                            <tbody>\\n                                <tr>\\n                                    <td width=\"45%\">Tasa Anual %</td>\\n                                    <td width=\"55%\" nowrap class=\"valores\">4,95</td>\\n                                </tr>\\n                                <tr>\\n                                    <td>Dividendo sin seguro en UF</td>\\n                                    <td nowrap class=\"valores\">15,8146</td>\\n                                </tr>\\n                                <tr>\\n                                    <td>Dividendo sin seguro en $</td>\\n                                    <td nowrap class=\"valores\">491.338</td>\\n                                </tr>\\n                                <tr>\\n                                    <td>Dividendo con seguro en UF</td>\\n                                    <td nowrap class=\"valores\">16,8935</td>\\n                                </tr>\\n                                <tr>\\n                                    <td>Dividendo con seguro en $</td>\\n                                    <td nowrap class=\"valores\">524.857</td>\\n                                </tr>\\n                                <tr>\\n                                    <td><span>Costo final del cr&eacute;dito (UF)</span></td>\\n                                    <td nowrap class=\"valores\"><span>6.081,6582</span></td>\\n                                </tr>\\n                                <tr>\\n                                    <td><strong>Carga Anual Equivalente (CAE)</strong></td>\\n                                    <td nowrap class=\"valores\"><strong>5,43</strong></td>\\n                                </tr>\\n                            </tbody>\\n                        </table>\\n                    </div>\\n                </div>\\n            </div>\\n                <div id=\"collapseOne\" class=\"panel-collapse \">\\n            <div class=\"panel-body\">\\n                <table width=\"100%\" border=\"0\" cellspacing=\"0\" cellpadding=\"0\" class=\"tablaValoresTasa\">\\n                    <tbody>\\n                        <tr>\\n                            <td width=\"45%\">Gastos Operacionales Referenciales</td>\\n                            <td width=\"55%\" nowrap class=\"valores\"></td>\\n                        </tr>\\n                        <tr>\\n                            <td width=\"45%\">Conservador de Bienes Raíces </td>\\n                            <td width=\"55%\" nowrap class=\"valores\">18 UF</td>\\n                        </tr>\\n                        <tr>\\n                            <td width=\"45%\">Escrituración</td>\\n                            <td width=\"55%\" nowrap class=\"valores\">2,7 UF</td>\\n                        </tr>\\n                        <tr>\\n                            <td width=\"45%\">Estudio de Títulos</td>\\n                            <td width=\"55%\" nowrap class=\"valores\">2,52 UF</td>\\n                        </tr>\\n                        <tr>\\n                            <td width=\"45%\">Gastos Notariales</td>\\n                            <td width=\"55%\" nowrap class=\"valores\">4 UF</td>\\n                        </tr>\\n                        <tr>\\n                            <td width=\"45%\">Servicio de Inscripción CBR</td>\\n                            <td width=\"55%\" nowrap class=\"valores\">0 UF</td>\\n                        </tr>\\n                        <tr>\\n                            <td width=\"45%\">Tasación</td>\\n                            <td width=\"55%\" nowrap class=\"valores\">2,75 UF</td>\\n                        </tr>\\n                        <tr>\\n                            <td width=\"45%\">Impuesto de Timbres y Estampillas</td>\\n                            <td width=\"55%\" nowrap class=\"valores\">0 UF</td>                        </tr>\\n                    </tbody>\\n                </table>\\n            </div>\\n        </div>\\n    </div>\\n    <!--ACORDEON MOBILE-->\\n        <!-- Opción 2: tasa mixta -->\\n        <!-- Letra Chica -->\\n    <div class=\"letraChica\"><strong>Nota</strong>: Los valores presentados en UF se han aproximado a 4 decimales.\\n        <div><strong> Valor UF</strong>: <span>31.068,58</span> al 13/01/2022</div>\\n    </div>\\n    <!-- Columna Derecha -->\\n    <!-- Btn Continuar -->\\n    <div class=\"contenedorBtn\">\\n                <!-- Aceptación Notas Legales-->\\n        <div class=\"notasLegales\">\\n            <label>\\n                <form id=\"paso02\" autocomplete=\"off\">\\n                    <input name=\"acepto\" type=\"checkbox\" id=\"acepto\" value=\"true\">\\n                    He le&iacute;do y estoy de acuerdo con las <a href=\"externos/notas_legales.html\" class=\"iframe\" title=\"Notas Legales\"><span>Notas Legales</span></a>\\n                    <!-- <a href=\"externos/notas_legales.html\" class=\"iframe\" title=\"Notas Legales\"><span>Notas Legales</span></a> -->\\n                    <input name=\"tipotasa\" id=\"tipotasa\" type=\"hidden\" value=\"1\">\\n                    <input name=\"ano\" id=\"ano\" type=\"hidden\" value=\"20\">\\n                                        <input name=\"periodo\" id=\"periodo\" type=\"hidden\" value=\"0\">\\n                    <input name=\"id\" type=\"hidden\" value=\"3944146\">\\n                    <input type=\"hidden\" name=\"port_financiera\" id=\"port_financiera\" value=\"1\">\\n                </form>\\n            </label>\\n        </div>\\n        <div class=\"error bordeRojo\" id=\"error_bordeRojo\"></div>\\n        <!-- Btn Solicita tu preaprobación -->\\n        <a href=\"javascript:;\" onclick=\"location.reload(false);\" class=\"btn2\">Volver a Simular</a> &nbsp;&nbsp;\\n                    <a href=\"javascript:void(0)\" onClick=\"procesaPaso2();\" class=\"btn1\">Solicita tu Hipotecario</a>\\n                </div>\\n</div>\\n<script type=\"text/javascript\" src=\"../js/portabilidadFinanciera.js\"></script>\\n<script>\\n    var quiero_portarme = document.getElementById(\\'quiero_portarme\\');\\n    var portabilidad__tooltip = document.getElementById(\\'portabilidad__tooltip\\');\\n\\n    if (quiero_portarme) {\\n        quiero_portarme.addEventListener(\\'mouseover\\', function() {\\n            portabilidad__tooltip.style.display = \\'inline-block\\';\\n        });\\n\\n        quiero_portarme.addEventListener(\\'mouseout\\', function() {\\n            portabilidad__tooltip.style.display = \\'none\\';\\n        });\\n\\n        var datosPasoUno = {};\\n        var datosSegunPlazo = {};\\n        var datosGastosOperacionales = {};\\n\\n                    datosPasoUno[\\'tipo_solicitud\\'] = \\'1\\';\\n                        datosPasoUno[\\'ubicacion\\'] = \\'1\\';\\n                        datosPasoUno[\\'tipo_propiedad\\'] = \\'1\\';\\n                        datosPasoUno[\\'condicion\\'] = \\'1\\';\\n                        datosPasoUno[\\'valor_propiedad_peso\\'] = \\'116507175\\';\\n                        datosPasoUno[\\'valor_propiedad\\'] = \\'3750.00\\';\\n                        datosPasoUno[\\'plazo_entrega\\'] = \\'1\\';\\n                        datosPasoUno[\\'valor_deuda\\'] = \\'0\\';\\n                        datosPasoUno[\\'valor_deuda_peso\\'] = \\'0\\';\\n                        datosPasoUno[\\'valor_pie\\'] = \\'750.00\\';\\n                        datosPasoUno[\\'valor_pie_peso\\'] = \\'23301435\\';\\n                        datosPasoUno[\\'plazo_credito\\'] = \\'20\\';\\n                        datosPasoUno[\\'valor_credito\\'] = \\'3000\\';\\n                        datosPasoUno[\\'valor_credito_peso\\'] = \\'93205740\\';\\n                        datosPasoUno[\\'tcanal\\'] = \\'asesor\\';\\n                        datosPasoUno[\\'nombre_cliente\\'] = \\'sadsadas\\';\\n                        datosPasoUno[\\'rut_cliente\\'] = \\'15654317\\';\\n                        datosPasoUno[\\'dv_cliente\\'] = \\'9\\';\\n                        datosPasoUno[\\'email_cliente\\'] = \\'sightes@gmail.com\\';\\n                        datosPasoUno[\\'uf\\'] = \\'31068.58\\';\\n                        datosPasoUno[\\'es_funcionario\\'] = \\'0\\';\\n                        datosPasoUno[\\'es_otra_institucion\\'] = \\'0\\';\\n                        datosPasoUno[\\'id\\'] = \\'3944146\\';\\n                        datosGastosOperacionales[\\'conservador\\'] = \\'18\\';\\n                        datosGastosOperacionales[\\'escrituracion\\'] = \\'2,7\\';\\n                        datosGastosOperacionales[\\'estudio_titulos\\'] = \\'2,52\\';\\n                        datosGastosOperacionales[\\'gastos_notariales\\'] = \\'4\\';\\n                        datosGastosOperacionales[\\'servicio_inscripcion_cbr\\'] = \\'0\\';\\n                        datosGastosOperacionales[\\'tasacion\\'] = \\'2,75\\';\\n                        datosGastosOperacionales[\\'impuesto_timbres_estampillas\\'] = \\'0\\';\\n                    quiero_portarme.addEventListener(\\'click\\', function(e) {\\n            e.preventDefault();\\n            if (!$(\"#acepto\").is(\\':checked\\')) {\\n                $(\".error.bordeRojo\").html(\"Debes aceptar y estar de acuerdo con las notas legales.\");\\n                $(\".error.bordeRojo\").css(\"display\", \"inherit\");\\n                efectoFocus(\"#error_bordeRojo\");\\n                return false;\\n            } else {\\n                quiero_portarme.disabled = true;\\n                PortabilidadFinanciera.actualizarSimulacion(datosPasoUno, datosSegunPlazo, datosGastosOperacionales);\\n            }\\n        });\\n    }\\n\\n    $(function() {\\n        $(\".iframe\").fancybox({\\n            openEffect: \\'none\\',\\n            closeEffect: \\'none\\',\\n            type: \\'iframe\\',\\n            \\'frameWidth\\': Math.imul($(window).width(), 70) / 100, // set the width\\n            \\'frameHeight\\': Math.imul($(window).height(), 70) / 100, // set the height\\n            iframe: {\\n                preload: false\\n            },\\n            helpers: {\\n                overlay: {\\n                    opacity: 0.3,\\n                    css: {\\n                        \\'background-color\\': \\'#666\\'\\n                    }\\n                }\\n            }\\n        });\\n    });\\n</script>'"
      ]
     },
     "execution_count": 78,
     "metadata": {},
     "output_type": "execute_result"
    }
   ],
   "source": [
    "r.text"
   ]
  },
  {
   "cell_type": "code",
   "execution_count": 138,
   "metadata": {},
   "outputs": [],
   "source": [
    "Tasas=[root.xpath(\"////*/td[text() = 'Tasa Anual %' ]/ancestor::tr/td[2]\")[i].text for i in range(1,5)]\n",
    "divsseg=[root.xpath(\"////*/td[text() = 'Dividendo sin seguro en UF' ]/ancestor::tr/td[2]\")[i].text for i in range(1,5)]\n",
    "divssegclp=[root.xpath(\"////*/td[text() = 'Dividendo sin seguro en $' ]/ancestor::tr/td[2]\")[i].text for i in range(1,5)]\n",
    "divcseg=[root.xpath(\"////*/td[text() = 'Dividendo con seguro en UF' ]/ancestor::tr/td[2]\")[i].text for i in range(1,5)]\n",
    "divcsegclp=[root.xpath(\"////*/td[text() = 'Dividendo con seguro en $' ]/ancestor::tr/td[2]\")[i].text for i in range(1,5)]\n",
    "cae=[root.xpath(\"////*/td[text() = 'Carga Anual Equivalente (CAE)' ]/ancestor::tr/td[\"+str(i)+\"]\")[0].text  for i in range(2,6)]\n",
    "plz=[root.xpath(\"////*/th[@class= 'elegida' ]/ancestor::tr/th[\"+str(i)+\"]\")[1].text for i in range(2,6)]\n"
   ]
  },
  {
   "cell_type": "code",
   "execution_count": 139,
   "metadata": {},
   "outputs": [],
   "source": [
    "col=['Tasa','CAE','Div_SSEG','SEG_INCSIS','SEG_DESG',\n",
    "  'PRIM_DIV','COSTO_TOTCRED','TOT_DIVUF','TOT_DIV$','Plazo',\n",
    "  'TOT_Seg','Dividendo_CSEG','ValorProp','MontoCre','Fecha',\n",
    "  'Producto','PlazoFijo','Banco']\n",
    "tt=pd.DataFrame([], columns=col)"
   ]
  },
  {
   "cell_type": "code",
   "execution_count": 141,
   "metadata": {},
   "outputs": [],
   "source": [
    "Rut='15654317'\n",
    "Dv='9'\n",
    "valprop=3750\n",
    "monto=3000\n",
    "tt['Tasa']=Tasas\n",
    "tt['CAE']=cae\n",
    "tt['Div_SSEG']=divsseg\n",
    "tt['SEG_INCSIS']=0\n",
    "tt['SEG_DESG']=0\n",
    "tt['PRIM_DIV']=0\n",
    "tt['COSTO_TOTCRED']=0\n",
    "tt['TOT_DIVUF']=divcseg\n",
    "tt['TOT_DIV$']=divcsegclp\n",
    "tt['Plazo']=plz\n",
    "tt['TOT_Seg']=0\n",
    "tt['Dividendo_CSEG']=divcseg\n",
    "tt['ValorProp']=valprop\n",
    "tt['MontoCre']=monto\n",
    "tt['Fecha']=date.today()\n",
    "tt['Producto']='HIP-FIJA'\n",
    "tt['PlazoFijo']=0\n",
    "tt['Banco']='ESTADO'"
   ]
  },
  {
   "cell_type": "code",
   "execution_count": 147,
   "metadata": {},
   "outputs": [
    {
     "data": {
      "text/plain": [
       "'{\"formulario_tipo\":\"hipotecario\",\"funcionario\":\"0\",\"port_financiera\":\"1\",\"dia_01\":\"00\",\"mes_01\":\"00\",\"anio_01\":\"0000\",\"actividad_01\":\" \",\"renta_01\":\"2\",\"renta_02\":\"2\",\"dia_02\":\"01\",\"mes_02\":\"01\",\"anio_02\":\"1900\",\"actividad_02\":\" \",\"ubicacion_01\":\"0\",\"tcanals\":\"asesor\",\"opcion_01\":\"1\",\"tipo_01\":\"1\",\"region_01\":\"10\",\"condicion_01\":\"1\",\"nombre_01\":\"sadsadas\",\"rut_01\":\"15654317-9\",\"email_01\":\"sightes@gmail.com\",\"uf_01\":\"3.750,00\",\"pesos_01\":\"116.507.175\",\"dolar_01\":\"\",\"uf_02\":\"\",\"pesos_02\":\"\",\"dolar_02\":\"\",\"plazo_entrega\":\"1\",\"uf_03\":\"750,00\",\"pesos_03\":\"23.301.435\",\"dolar_03\":\"\",\"plazo_credito\":\"5\",\"uf\":\"31068.58\"}'"
      ]
     },
     "execution_count": 147,
     "metadata": {},
     "output_type": "execute_result"
    }
   ],
   "source": [
    "Rut='15654317'\n",
    "Dv='9'\n",
    "valprop=3750\n",
    "monto=3000\n",
    "plz=5\n",
    "plz_fijo=5\n",
    "prod='mixta'\n",
    "uf=29650\n",
    "\n",
    "''.join((\n",
    "        '{\"formulario_tipo\":\"hipotecario\",\"funcionario\":\"0\",',\n",
    "        '\"port_financiera\":\"1\",\"dia_01\":\"00\",\"mes_01\":\"00\",\"anio_01\":\"0000\",',\n",
    "        '\"actividad_01\":\" \",\"renta_01\":\"2\",\"renta_02\":\"2\",\"dia_02\":\"01\",\"mes_02\":\"01\",',\n",
    "        '\"anio_02\":\"1900\",\"actividad_02\":\" \",\"ubicacion_01\":\"0\",\"tcanals\":\"asesor\",',\n",
    "        '\"opcion_01\":\"1\",\"tipo_01\":\"1\",\"region_01\":\"10\",\"condicion_01\":\"1\",',\n",
    "        '\"nombre_01\":\"sadsadas\",\"rut_01\":\"'+Rut+'-'+Dv+'\",\"email_01\":\"asdsadsad@gmail.com\",',\n",
    "        '\"uf_01\":\"3.750,00\",\"pesos_01\":\"116.507.175\",\"dolar_01\":\"\",\"uf_02\":\"\",',\n",
    "        '\"pesos_02\":\"\",\"dolar_02\":\"\",\"plazo_entrega\":\"1\",\"uf_03\":\"750,00\",',\n",
    "        '\"pesos_03\":\"23.301.435\",\"dolar_03\":\"\",\"plazo_credito\":\"'+str(plz)+'\",\"uf\":\"31068.58\"}'))"
   ]
  },
  {
   "cell_type": "code",
   "execution_count": 153,
   "metadata": {},
   "outputs": [
    {
     "data": {
      "text/plain": [
       "'123.466.666'"
      ]
     },
     "execution_count": 153,
     "metadata": {},
     "output_type": "execute_result"
    }
   ],
   "source": [
    "'{0:,.0f}'.format(123466666).replace(',','.')"
   ]
  }
 ],
 "metadata": {
  "interpreter": {
   "hash": "c637c68690e55ca4b11850d51320520bb27e1ffcb80917df62e917f03b70d0c8"
  },
  "kernelspec": {
   "display_name": "Python 3.9.9 64-bit",
   "language": "python",
   "name": "python3"
  },
  "language_info": {
   "codemirror_mode": {
    "name": "ipython",
    "version": 3
   },
   "file_extension": ".py",
   "mimetype": "text/x-python",
   "name": "python",
   "nbconvert_exporter": "python",
   "pygments_lexer": "ipython3",
   "version": "3.9.9"
  },
  "orig_nbformat": 4
 },
 "nbformat": 4,
 "nbformat_minor": 2
}
