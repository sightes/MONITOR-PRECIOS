{
 "cells": [
  {
   "cell_type": "code",
   "execution_count": 5,
   "metadata": {},
   "outputs": [
    {
     "name": "stderr",
     "output_type": "stream",
     "text": [
      "u:\\Python\\lib\\site-packages\\urllib3\\connectionpool.py:1004: InsecureRequestWarning: Unverified HTTPS request is being made to host 'servicios.cmfchile.cl'. Adding certificate verification is strongly advised. See: https://urllib3.readthedocs.io/en/latest/advanced-usage.html#ssl-warnings\n",
      "  InsecureRequestWarning,\n"
     ]
    }
   ],
   "source": [
    "\n",
    "import pandas as pd \n",
    "import numpy as np\n",
    "from datetime import date, datetime, timedelta\n",
    "import lxml.html\n",
    "import urllib3\n",
    "import json\n",
    "import requests \n",
    "import time\n",
    "import random\n",
    "\n",
    "url = 'https://servicios.cmfchile.cl/simuladorhipotecario/aplicacion?indice=101.2.3 \\\n",
    "&maxuf=20000&minuf=100&maxpeso=652419400&minpeso=3262097&paso=2&template=entidades&tipomoneda=1 \\\n",
    "&monto=3000&tipocredito=3&tipotasa=1&plazo=20&inst=OK& \\\n",
    "marcados=1&marcados=9&marcados=12&marcados=14&marcados=16&marcados=28&marcados=37&marcados=39&marcados=51&marcados=672'\n",
    "\n",
    "session=requests.Session()\n",
    "session.verify=False\n",
    "\n",
    "r = session.get( url.replace(' ',''), headers={\n",
    "'Upgrade-Insecure-Requests': '1',\n",
    "'Connection': 'keep-alive',\n",
    "'Content-Type': 'application/x-www-form-urlencoded', \\\n",
    "'Referer': 'https://servicios.cmfchile.cl/simuladorhipotecario/aplicacion?indice=101.2.1', \\\n",
    "'User-Agent': 'Mozilla/5.0 (Windows NT 10.0; Win64; x64) AppleWebKit/537.36 (KHTML, like Gecko) Chrome/101.0.4951.67 Safari/537.36'} )\n",
    "root = lxml.html.fromstring(r.text)"
   ]
  },
  {
   "cell_type": "code",
   "execution_count": 18,
   "metadata": {},
   "outputs": [
    {
     "name": "stdout",
     "output_type": "stream",
     "text": [
      "Banco del Estado de Chile\n",
      "Banco Bice\n",
      "Scotiabank Chile\n",
      "Coopeuch\n",
      "Itaú Corpbanca\n",
      "Banco de Crédito e Inversiones\n",
      "Banco Santander-Chile\n",
      "Banco de Chile\n",
      "Banco Internacional\n",
      "Banco Falabella\n"
     ]
    }
   ],
   "source": [
    "#test cuantos bancos en el listado \n",
    "nbancos=len(root.xpath(\"////*/div[@id = 'simuladorCreditoHipotecario']/table/tbody/tr\"))\n",
    "for i in range(1,11):\n",
    "  banco=root.xpath(\"////*/div[@id = 'simuladorCreditoHipotecario']/table/tbody/tr[\"+ str(i) + \"]/td\")[0].text\n",
    "  tipo=root.xpath(\"////*/div[@id = 'simuladorCreditoHipotecario']/table/tbody/tr[\"+ str(i) + \"]/td\")[1].text\n",
    "  dividendo=root.xpath(\"////*/div[@id = 'simuladorCreditoHipotecario']/table/tbody/tr[\"+ str(i) + \"]/td\")[2].text\n",
    "  moneda=root.xpath(\"////*/div[@id = 'simuladorCreditoHipotecario']/table/tbody/tr[\"+ str(i) + \"]/td\")[3].text\n",
    "  tasa=root.xpath(\"////*/div[@id = 'simuladorCreditoHipotecario']/table/tbody/tr[\"+ str(i) + \"]/td\")[4].text\n",
    "  CAE=root.xpath(\"////*/div[@id = 'simuladorCreditoHipotecario']/table/tbody/tr[\"+ str(i) + \"]/td\")[5].text\n",
    "  Gnotarial=root.xpath(\"////*/div[contains(@id,'targetSimulacion')]/div[1]/ul[1]/li[contains(@class,'list-group-item')]\")[1].text \n"
   ]
  },
  {
   "cell_type": "code",
   "execution_count": 70,
   "metadata": {},
   "outputs": [
    {
     "data": {
      "text/plain": [
       "'\\tGastos notariales: UF 2,50\\xa0\\n'"
      ]
     },
     "execution_count": 70,
     "metadata": {},
     "output_type": "execute_result"
    }
   ],
   "source": [
    "root.xpath(\"////*/div[contains(@id,'targetSimulacion')]/div[1]/ul[1]/li[contains(@class,'list-group-item')]\")[1].text "
   ]
  },
  {
   "cell_type": "code",
   "execution_count": null,
   "metadata": {},
   "outputs": [],
   "source": [
    "cxv"
   ]
  }
 ],
 "metadata": {
  "interpreter": {
   "hash": "87c7be4dff236368a8568580279bb7fe9d93492e8fc92078d2b6640cf6ec3b6e"
  },
  "kernelspec": {
   "display_name": "Python 3.6.8 32-bit",
   "language": "python",
   "name": "python3"
  },
  "language_info": {
   "codemirror_mode": {
    "name": "ipython",
    "version": 3
   },
   "file_extension": ".py",
   "mimetype": "text/x-python",
   "name": "python",
   "nbconvert_exporter": "python",
   "pygments_lexer": "ipython3",
   "version": "3.6.8"
  },
  "orig_nbformat": 4
 },
 "nbformat": 4,
 "nbformat_minor": 2
}
